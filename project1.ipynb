{
 "cells": [
  {
   "cell_type": "markdown",
   "metadata": {},
   "source": [
    "## World Progress"
   ]
  },
  {
   "cell_type": "markdown",
   "metadata": {},
   "source": [
    "In this project, you'll explore data from [Gapminder.org](http://gapminder.org), a website dedicated to providing a fact-based view of the world and how it has changed. That site includes several data visualizations and presentations, but also publishes the raw data that we will use in this project to recreate and extend some of their most famous visualizations.\n",
    "\n",
    "The Gapminder website collects data from many sources and compiles them into tables that describe many countries around the world. All of the data they aggregate are published in the [Systema Globalis](https://github.com/open-numbers/ddf--gapminder--systema_globalis/blob/master/README.md). Their goal is \"to compile all public statistics; Social, Economic and Environmental; into a comparable total dataset.\" All data sets in this project are copied directly from the Systema Globalis without any changes.\n",
    "\n",
    "This project is dedicated to [Hans Rosling](https://en.wikipedia.org/wiki/Hans_Rosling) (1948-2017), who championed the use of data to understand and prioritize global development challenges."
   ]
  },
  {
   "cell_type": "markdown",
   "metadata": {},
   "source": [
    "### Logistics\n",
    "\n",
    "**Deadline.** This project is due at 11:59pm on Friday 9/28. Projects will be accepted up to 2 days (48 hours) late; a project submitted less than 24 hours after the deadline will receive 2/3 credit, a project submitted between 24 and 48 hours after the deadline will receive 1/3 credit, and a project submitted 48 hours or more after the deadline will receive no credit. It's **much** better to be early than late, so start working now.\n",
    "\n",
    "**Checkpoint.** For full credit, you must also complete the first 8 questions and submit them by 11:59pm on Friday 9/21. You will have some lab time to work on these questions, but we recommend that you start the project before lab and leave time to finish the checkpoint afterward.\n",
    "\n",
    "**Partners.** You may work with one other partner; your partner must be from your assigned lab section. Only one of you is required to submit the project. On [okpy.org](http://okpy.org), the person who submits should also designate their partner so that both of you receive credit.\n",
    "\n",
    "**Rules.** Don't share your code with anybody but your partner. You are welcome to discuss questions with other students, but don't share the answers. The experience of solving the problems in this project will prepare you for exams (and life). If someone asks you for the answer, resist! Instead, you can demonstrate how you would solve a similar problem.\n",
    "\n",
    "**Support.** You are not alone! Come to office hours, post on Piazza, and talk to your classmates. If you want to ask about the details of your solution to a problem, make a private Piazza post and the staff will respond. If you're ever feeling overwhelmed or don't know how to make progress, email your TA or tutor for help. You can find contact information for the staff on the [course website](http://data8.org/fa18/staff.html).\n",
    "\n",
    "**Tests.** The tests that are given are **not comprehensive** and passing the tests for a question **does not** mean that you answered the question correctly. Tests usually only check that your table has the correct column labels. However, more tests will be applied to verify the correctness of your submission in order to assign your final score, so be careful and check your work! You might want to create your own checks along the way to see if your answers make sense. Additionally, before you submit, make sure that none of your cells take a very long time to run (several minutes).\n",
    "\n",
    "**Free Response Questions:** Make sure that you put the answers to the written questions in the indicated cell we provide. Check to make sure that you have a [Gradescope](http://gradescope.com) account, which is where the scores to the free response questions will be posted. If you do not, make sure to reach out to your assigned (u)GSI.\n",
    "\n",
    "**Advice.** Develop your answers incrementally. To perform a complicated table manipulation, break it up into steps, perform each step on a different line, give a new name to each result, and check that each intermediate result is what you expect. You can add any additional names or functions you want to the provided cells. Make sure that you are using distinct and meaningful variable names throughout the notebook. Along that line, **DO NOT** reuse the variable names that we use when we grade your answers. For example, in Question 1 of the Global Poverty section, we ask you to assign an answer to `latest`. Do not reassign the variable name `latest` to anything else in your notebook, otherwise there is the chance that our tests grade against what `latest` was reassigned to.\n",
    "\n",
    "You **never** have to use just one line in this project or any others. Use intermediate variables and multiple lines as much as you would like!  \n",
    "\n",
    "To get started, load `datascience`, `numpy`, `plots`, and `ok`."
   ]
  },
  {
   "cell_type": "code",
   "execution_count": 17,
   "metadata": {},
   "outputs": [
    {
     "name": "stdout",
     "output_type": "stream",
     "text": [
      "=====================================================================\n",
      "Assignment: World Progress\n",
      "OK, version v1.12.5\n",
      "=====================================================================\n",
      "\n",
      "Successfully logged in as lali_14@berkeley.edu\n"
     ]
    }
   ],
   "source": [
    "from datascience import *\n",
    "import numpy as np\n",
    "\n",
    "%matplotlib inline\n",
    "import matplotlib.pyplot as plots\n",
    "plots.style.use('fivethirtyeight')\n",
    "\n",
    "from client.api.notebook import Notebook\n",
    "ok = Notebook('project1.ok')\n",
    "_ = ok.auth(inline=True)"
   ]
  },
  {
   "cell_type": "markdown",
   "metadata": {
    "deletable": false,
    "editable": false
   },
   "source": [
    "## 1. Global Population Growth\n"
   ]
  },
  {
   "cell_type": "markdown",
   "metadata": {
    "deletable": false,
    "editable": false
   },
   "source": [
    "The global population of humans reached 1 billion around 1800, 3 billion around 1960, and 7 billion around 2011. The potential impact of exponential population growth has concerned scientists, economists, and politicians alike.\n",
    "\n",
    "The UN Population Division estimates that the world population will likely continue to grow throughout the 21st century, but at a slower rate, perhaps reaching 11 billion by 2100. However, the UN does not rule out scenarios of more extreme growth.\n",
    "\n",
    "<a href=\"http://www.pewresearch.org/fact-tank/2015/06/08/scientists-more-worried-than-public-about-worlds-growing-population/ft_15-06-04_popcount/\"> \n",
    " <img src=\"pew_population_projection.png\"/> \n",
    "</a>\n",
    "\n",
    "In this section, we will examine some of the factors that influence population growth and how they are changing around the world.\n",
    "\n",
    "The first table we will consider is the total population of each country over time. Run the cell below."
   ]
  },
  {
   "cell_type": "code",
   "execution_count": 18,
   "metadata": {
    "deletable": false,
    "editable": false
   },
   "outputs": [
    {
     "data": {
      "text/html": [
       "<table border=\"1\" class=\"dataframe\">\n",
       "    <thead>\n",
       "        <tr>\n",
       "            <th>geo</th> <th>time</th> <th>population_total</th>\n",
       "        </tr>\n",
       "    </thead>\n",
       "    <tbody>\n",
       "        <tr>\n",
       "            <td>abw </td> <td>1800</td> <td>19286           </td>\n",
       "        </tr>\n",
       "        <tr>\n",
       "            <td>abw </td> <td>1801</td> <td>19286           </td>\n",
       "        </tr>\n",
       "        <tr>\n",
       "            <td>abw </td> <td>1802</td> <td>19286           </td>\n",
       "        </tr>\n",
       "    </tbody>\n",
       "</table>\n",
       "<p>... (87792 rows omitted)</p>"
      ],
      "text/plain": [
       "<IPython.core.display.HTML object>"
      ]
     },
     "metadata": {},
     "output_type": "display_data"
    }
   ],
   "source": [
    "population = Table.read_table('population.csv')\n",
    "population.show(3)"
   ]
  },
  {
   "cell_type": "markdown",
   "metadata": {},
   "source": [
    "**Note:** The population csv file can also be found [here](https://github.com/open-numbers/ddf--gapminder--systema_globalis/raw/master/ddf--datapoints--population_total--by--geo--time.csv). The data for this project was downloaded in February, 2017."
   ]
  },
  {
   "cell_type": "markdown",
   "metadata": {
    "deletable": false,
    "editable": false
   },
   "source": [
    "### Bangladesh\n",
    "\n",
    "In the `population` table, the `geo` column contains three-letter codes established by the [International Organization for Standardization](https://en.wikipedia.org/wiki/International_Organization_for_Standardization) (ISO) in the [Alpha-3](https://en.wikipedia.org/wiki/ISO_3166-1_alpha-3#Current_codes) standard. We will begin by taking a close look at Bangladesh. Inspect the standard to find the 3-letter code for Bangladesh."
   ]
  },
  {
   "cell_type": "markdown",
   "metadata": {
    "deletable": false,
    "editable": false
   },
   "source": [
    "**Question 1.** Create a table called `b_pop` that has two columns labeled `time` and `population_total`. The first column should contain the years from 1970 through 2015 (including both 1970 and 2015) and the second should contain the population of Bangladesh in each of those years."
   ]
  },
  {
   "cell_type": "code",
   "execution_count": 19,
   "metadata": {
    "deletable": false
   },
   "outputs": [
    {
     "data": {
      "text/html": [
       "<table border=\"1\" class=\"dataframe\">\n",
       "    <thead>\n",
       "        <tr>\n",
       "            <th>time</th> <th>population_total</th>\n",
       "        </tr>\n",
       "    </thead>\n",
       "    <tbody>\n",
       "        <tr>\n",
       "            <td>1970</td> <td>65048701        </td>\n",
       "        </tr>\n",
       "        <tr>\n",
       "            <td>1971</td> <td>66417450        </td>\n",
       "        </tr>\n",
       "        <tr>\n",
       "            <td>1972</td> <td>67578486        </td>\n",
       "        </tr>\n",
       "        <tr>\n",
       "            <td>1973</td> <td>68658472        </td>\n",
       "        </tr>\n",
       "        <tr>\n",
       "            <td>1974</td> <td>69837960        </td>\n",
       "        </tr>\n",
       "        <tr>\n",
       "            <td>1975</td> <td>71247153        </td>\n",
       "        </tr>\n",
       "        <tr>\n",
       "            <td>1976</td> <td>72930206        </td>\n",
       "        </tr>\n",
       "        <tr>\n",
       "            <td>1977</td> <td>74848466        </td>\n",
       "        </tr>\n",
       "        <tr>\n",
       "            <td>1978</td> <td>76948378        </td>\n",
       "        </tr>\n",
       "        <tr>\n",
       "            <td>1979</td> <td>79141947        </td>\n",
       "        </tr>\n",
       "    </tbody>\n",
       "</table>\n",
       "<p>... (36 rows omitted)</p>"
      ],
      "text/plain": [
       "time | population_total\n",
       "1970 | 65048701\n",
       "1971 | 66417450\n",
       "1972 | 67578486\n",
       "1973 | 68658472\n",
       "1974 | 69837960\n",
       "1975 | 71247153\n",
       "1976 | 72930206\n",
       "1977 | 74848466\n",
       "1978 | 76948378\n",
       "1979 | 79141947\n",
       "... (36 rows omitted)"
      ]
     },
     "execution_count": 19,
     "metadata": {},
     "output_type": "execute_result"
    }
   ],
   "source": [
    "b_pop = population.where('geo', are.equal_to('bgd')).where('time', are.between(1970, 2016)).drop('geo')\n",
    "b_pop"
   ]
  },
  {
   "cell_type": "code",
   "execution_count": 20,
   "metadata": {
    "deletable": false,
    "editable": false,
    "scrolled": false
   },
   "outputs": [
    {
     "name": "stdout",
     "output_type": "stream",
     "text": [
      "~~~~~~~~~~~~~~~~~~~~~~~~~~~~~~~~~~~~~~~~~~~~~~~~~~~~~~~~~~~~~~~~~~~~~\n",
      "Running tests\n",
      "\n",
      "---------------------------------------------------------------------\n",
      "Test summary\n",
      "    Passed: 3\n",
      "    Failed: 0\n",
      "[ooooooooook] 100.0% passed\n",
      "\n"
     ]
    }
   ],
   "source": [
    "_ = ok.grade('q1_1')"
   ]
  },
  {
   "cell_type": "markdown",
   "metadata": {
    "deletable": false,
    "editable": false
   },
   "source": [
    "Run the following cell to create a table called `b_five` that has the population of Bangladesh every five years. At a glance, it appears that the population of Bangladesh has been growing quickly indeed!"
   ]
  },
  {
   "cell_type": "code",
   "execution_count": 21,
   "metadata": {
    "deletable": false,
    "editable": false
   },
   "outputs": [
    {
     "data": {
      "text/html": [
       "<table border=\"1\" class=\"dataframe\">\n",
       "    <thead>\n",
       "        <tr>\n",
       "            <th>time</th> <th>population_total</th>\n",
       "        </tr>\n",
       "    </thead>\n",
       "    <tbody>\n",
       "        <tr>\n",
       "            <td>1970</td> <td>65,048,701      </td>\n",
       "        </tr>\n",
       "        <tr>\n",
       "            <td>1975</td> <td>71,247,153      </td>\n",
       "        </tr>\n",
       "        <tr>\n",
       "            <td>1980</td> <td>81,364,176      </td>\n",
       "        </tr>\n",
       "        <tr>\n",
       "            <td>1985</td> <td>93,015,182      </td>\n",
       "        </tr>\n",
       "        <tr>\n",
       "            <td>1990</td> <td>105,983,136     </td>\n",
       "        </tr>\n",
       "        <tr>\n",
       "            <td>1995</td> <td>118,427,768     </td>\n",
       "        </tr>\n",
       "        <tr>\n",
       "            <td>2000</td> <td>131,280,739     </td>\n",
       "        </tr>\n",
       "        <tr>\n",
       "            <td>2005</td> <td>142,929,979     </td>\n",
       "        </tr>\n",
       "        <tr>\n",
       "            <td>2010</td> <td>151,616,777     </td>\n",
       "        </tr>\n",
       "        <tr>\n",
       "            <td>2015</td> <td>160,995,642     </td>\n",
       "        </tr>\n",
       "    </tbody>\n",
       "</table>"
      ],
      "text/plain": [
       "time | population_total\n",
       "1970 | 65,048,701\n",
       "1975 | 71,247,153\n",
       "1980 | 81,364,176\n",
       "1985 | 93,015,182\n",
       "1990 | 105,983,136\n",
       "1995 | 118,427,768\n",
       "2000 | 131,280,739\n",
       "2005 | 142,929,979\n",
       "2010 | 151,616,777\n",
       "2015 | 160,995,642"
      ]
     },
     "execution_count": 21,
     "metadata": {},
     "output_type": "execute_result"
    }
   ],
   "source": [
    "b_pop.set_format('population_total', NumberFormatter)\n",
    "\n",
    "fives = np.arange(1970, 2016, 5) # 1970, 1975, 1980, ...\n",
    "b_five = b_pop.sort('time').where('time', are.contained_in(fives))\n",
    "b_five"
   ]
  },
  {
   "cell_type": "markdown",
   "metadata": {
    "deletable": false,
    "editable": false
   },
   "source": [
    "**Question 2.** Assign `b_1970_through_2010` to a table that has the same columns as `b_five` and has one row for every five years from 1970 through 2010 (but not 2015). Then, use that table to assign `initial` to an array that contains the population for every five year interval from 1970 to 2010. Finally, assign `changed` to an array that contains the population for every five year interval from 1975 to 2015.\n",
    "\n",
    "*Hint*: You may find the `exclude` method to be helpful ([Docs](http://data8.org/datascience/_autosummary/datascience.tables.Table.exclude.html))."
   ]
  },
  {
   "cell_type": "code",
   "execution_count": 22,
   "metadata": {
    "deletable": false
   },
   "outputs": [],
   "source": [
    "b_1970_through_2010 = b_five.exclude(-1)\n",
    "initial = b_1970_through_2010.select('population_total').column('population_total')\n",
    "changed = b_five.exclude(0).select('population_total').column('population_total')"
   ]
  },
  {
   "cell_type": "markdown",
   "metadata": {
    "deletable": false,
    "editable": false
   },
   "source": [
    "We have provided the code below that uses `b_1970_through_2010`, `initial`, and `changed` in order to add a column to the table called `annual_growth`. Don't worry about the calculation of the growth rates; run the test below to test your solution.\n",
    "\n",
    "If you are interested in how we came up with the formula for growth rates, consult the [growth rates](https://www.inferentialthinking.com/chapters/03/2/1/growth) section of the textbook."
   ]
  },
  {
   "cell_type": "code",
   "execution_count": 23,
   "metadata": {
    "deletable": false,
    "editable": false
   },
   "outputs": [
    {
     "data": {
      "text/html": [
       "<table border=\"1\" class=\"dataframe\">\n",
       "    <thead>\n",
       "        <tr>\n",
       "            <th>time</th> <th>population_total</th> <th>annual_growth</th>\n",
       "        </tr>\n",
       "    </thead>\n",
       "    <tbody>\n",
       "        <tr>\n",
       "            <td>1970</td> <td>65,048,701      </td> <td>1.84%        </td>\n",
       "        </tr>\n",
       "        <tr>\n",
       "            <td>1975</td> <td>71,247,153      </td> <td>2.69%        </td>\n",
       "        </tr>\n",
       "        <tr>\n",
       "            <td>1980</td> <td>81,364,176      </td> <td>2.71%        </td>\n",
       "        </tr>\n",
       "        <tr>\n",
       "            <td>1985</td> <td>93,015,182      </td> <td>2.64%        </td>\n",
       "        </tr>\n",
       "        <tr>\n",
       "            <td>1990</td> <td>105,983,136     </td> <td>2.25%        </td>\n",
       "        </tr>\n",
       "        <tr>\n",
       "            <td>1995</td> <td>118,427,768     </td> <td>2.08%        </td>\n",
       "        </tr>\n",
       "        <tr>\n",
       "            <td>2000</td> <td>131,280,739     </td> <td>1.71%        </td>\n",
       "        </tr>\n",
       "        <tr>\n",
       "            <td>2005</td> <td>142,929,979     </td> <td>1.19%        </td>\n",
       "        </tr>\n",
       "        <tr>\n",
       "            <td>2010</td> <td>151,616,777     </td> <td>1.21%        </td>\n",
       "        </tr>\n",
       "    </tbody>\n",
       "</table>"
      ],
      "text/plain": [
       "time | population_total | annual_growth\n",
       "1970 | 65,048,701       | 1.84%\n",
       "1975 | 71,247,153       | 2.69%\n",
       "1980 | 81,364,176       | 2.71%\n",
       "1985 | 93,015,182       | 2.64%\n",
       "1990 | 105,983,136      | 2.25%\n",
       "1995 | 118,427,768      | 2.08%\n",
       "2000 | 131,280,739      | 1.71%\n",
       "2005 | 142,929,979      | 1.19%\n",
       "2010 | 151,616,777      | 1.21%"
      ]
     },
     "execution_count": 23,
     "metadata": {},
     "output_type": "execute_result"
    }
   ],
   "source": [
    "b_five_growth = b_1970_through_2010.with_column('annual_growth', (changed/initial)**0.2-1)\n",
    "b_five_growth.set_format('annual_growth', PercentFormatter)"
   ]
  },
  {
   "cell_type": "code",
   "execution_count": 24,
   "metadata": {
    "deletable": false,
    "editable": false
   },
   "outputs": [
    {
     "name": "stdout",
     "output_type": "stream",
     "text": [
      "~~~~~~~~~~~~~~~~~~~~~~~~~~~~~~~~~~~~~~~~~~~~~~~~~~~~~~~~~~~~~~~~~~~~~\n",
      "Running tests\n",
      "\n",
      "---------------------------------------------------------------------\n",
      "Test summary\n",
      "    Passed: 4\n",
      "    Failed: 0\n",
      "[ooooooooook] 100.0% passed\n",
      "\n"
     ]
    }
   ],
   "source": [
    "_ = ok.grade('q1_2')"
   ]
  },
  {
   "cell_type": "markdown",
   "metadata": {
    "deletable": false,
    "editable": false
   },
   "source": [
    "While the population has grown every five years since 1970, the annual growth rate decreased dramatically from 1985 to 2005. Let's look at some other information in order to develop a possible explanation. Run the next cell to load three additional tables of measurements about countries over time."
   ]
  },
  {
   "cell_type": "code",
   "execution_count": 25,
   "metadata": {
    "deletable": false,
    "editable": false
   },
   "outputs": [],
   "source": [
    "life_expectancy = Table.read_table('life_expectancy.csv')\n",
    "child_mortality = Table.read_table('child_mortality.csv').relabeled(2, 'child_mortality_under_5_per_1000_born')\n",
    "fertility = Table.read_table('fertility.csv')"
   ]
  },
  {
   "cell_type": "markdown",
   "metadata": {
    "deletable": false,
    "editable": false
   },
   "source": [
    "The `life_expectancy` table contains a statistic that is often used to measure how long people live, called *life expectancy at birth*. This number, for a country in a given year, [does not measure how long babies born in that year are expected to live](http://blogs.worldbank.org/opendata/what-does-life-expectancy-birth-really-mean). Instead, it measures how long someone would live, on average, if the *mortality conditions* in that year persisted throughout their lifetime. These \"mortality conditions\" describe what fraction of people at each age survived the year. So, it is a way of measuring the proportion of people that are staying alive, aggregated over different age groups in the population."
   ]
  },
  {
   "cell_type": "markdown",
   "metadata": {},
   "source": [
    "Run the following cells below to see `life_expectancy`, `child_mortality`, and `fertility`. Refer back to these tables as they will be helpful for answering further questions!"
   ]
  },
  {
   "cell_type": "code",
   "execution_count": 10,
   "metadata": {},
   "outputs": [
    {
     "data": {
      "text/html": [
       "<table border=\"1\" class=\"dataframe\">\n",
       "    <thead>\n",
       "        <tr>\n",
       "            <th>geo</th> <th>time</th> <th>life_expectancy_years</th>\n",
       "        </tr>\n",
       "    </thead>\n",
       "    <tbody>\n",
       "        <tr>\n",
       "            <td>afg </td> <td>1800</td> <td>28.21                </td>\n",
       "        </tr>\n",
       "        <tr>\n",
       "            <td>afg </td> <td>1801</td> <td>28.2                 </td>\n",
       "        </tr>\n",
       "        <tr>\n",
       "            <td>afg </td> <td>1802</td> <td>28.19                </td>\n",
       "        </tr>\n",
       "        <tr>\n",
       "            <td>afg </td> <td>1803</td> <td>28.18                </td>\n",
       "        </tr>\n",
       "        <tr>\n",
       "            <td>afg </td> <td>1804</td> <td>28.17                </td>\n",
       "        </tr>\n",
       "        <tr>\n",
       "            <td>afg </td> <td>1805</td> <td>28.16                </td>\n",
       "        </tr>\n",
       "        <tr>\n",
       "            <td>afg </td> <td>1806</td> <td>28.15                </td>\n",
       "        </tr>\n",
       "        <tr>\n",
       "            <td>afg </td> <td>1807</td> <td>28.14                </td>\n",
       "        </tr>\n",
       "        <tr>\n",
       "            <td>afg </td> <td>1808</td> <td>28.13                </td>\n",
       "        </tr>\n",
       "        <tr>\n",
       "            <td>afg </td> <td>1809</td> <td>28.12                </td>\n",
       "        </tr>\n",
       "    </tbody>\n",
       "</table>\n",
       "<p>... (43847 rows omitted)</p>"
      ],
      "text/plain": [
       "geo  | time | life_expectancy_years\n",
       "afg  | 1800 | 28.21\n",
       "afg  | 1801 | 28.2\n",
       "afg  | 1802 | 28.19\n",
       "afg  | 1803 | 28.18\n",
       "afg  | 1804 | 28.17\n",
       "afg  | 1805 | 28.16\n",
       "afg  | 1806 | 28.15\n",
       "afg  | 1807 | 28.14\n",
       "afg  | 1808 | 28.13\n",
       "afg  | 1809 | 28.12\n",
       "... (43847 rows omitted)"
      ]
     },
     "execution_count": 10,
     "metadata": {},
     "output_type": "execute_result"
    }
   ],
   "source": [
    "life_expectancy"
   ]
  },
  {
   "cell_type": "code",
   "execution_count": 11,
   "metadata": {},
   "outputs": [
    {
     "data": {
      "text/html": [
       "<table border=\"1\" class=\"dataframe\">\n",
       "    <thead>\n",
       "        <tr>\n",
       "            <th>geo</th> <th>time</th> <th>child_mortality_under_5_per_1000_born</th>\n",
       "        </tr>\n",
       "    </thead>\n",
       "    <tbody>\n",
       "        <tr>\n",
       "            <td>afg </td> <td>1800</td> <td>468.6                                </td>\n",
       "        </tr>\n",
       "        <tr>\n",
       "            <td>afg </td> <td>1801</td> <td>468.6                                </td>\n",
       "        </tr>\n",
       "        <tr>\n",
       "            <td>afg </td> <td>1802</td> <td>468.6                                </td>\n",
       "        </tr>\n",
       "        <tr>\n",
       "            <td>afg </td> <td>1803</td> <td>468.6                                </td>\n",
       "        </tr>\n",
       "        <tr>\n",
       "            <td>afg </td> <td>1804</td> <td>468.6                                </td>\n",
       "        </tr>\n",
       "        <tr>\n",
       "            <td>afg </td> <td>1805</td> <td>468.6                                </td>\n",
       "        </tr>\n",
       "        <tr>\n",
       "            <td>afg </td> <td>1806</td> <td>470                                  </td>\n",
       "        </tr>\n",
       "        <tr>\n",
       "            <td>afg </td> <td>1807</td> <td>470                                  </td>\n",
       "        </tr>\n",
       "        <tr>\n",
       "            <td>afg </td> <td>1808</td> <td>470                                  </td>\n",
       "        </tr>\n",
       "        <tr>\n",
       "            <td>afg </td> <td>1809</td> <td>470                                  </td>\n",
       "        </tr>\n",
       "    </tbody>\n",
       "</table>\n",
       "<p>... (40746 rows omitted)</p>"
      ],
      "text/plain": [
       "geo  | time | child_mortality_under_5_per_1000_born\n",
       "afg  | 1800 | 468.6\n",
       "afg  | 1801 | 468.6\n",
       "afg  | 1802 | 468.6\n",
       "afg  | 1803 | 468.6\n",
       "afg  | 1804 | 468.6\n",
       "afg  | 1805 | 468.6\n",
       "afg  | 1806 | 470\n",
       "afg  | 1807 | 470\n",
       "afg  | 1808 | 470\n",
       "afg  | 1809 | 470\n",
       "... (40746 rows omitted)"
      ]
     },
     "execution_count": 11,
     "metadata": {},
     "output_type": "execute_result"
    }
   ],
   "source": [
    "child_mortality"
   ]
  },
  {
   "cell_type": "code",
   "execution_count": 12,
   "metadata": {},
   "outputs": [
    {
     "data": {
      "text/html": [
       "<table border=\"1\" class=\"dataframe\">\n",
       "    <thead>\n",
       "        <tr>\n",
       "            <th>geo</th> <th>time</th> <th>children_per_woman_total_fertility</th>\n",
       "        </tr>\n",
       "    </thead>\n",
       "    <tbody>\n",
       "        <tr>\n",
       "            <td>afg </td> <td>1800</td> <td>7                                 </td>\n",
       "        </tr>\n",
       "        <tr>\n",
       "            <td>afg </td> <td>1801</td> <td>7                                 </td>\n",
       "        </tr>\n",
       "        <tr>\n",
       "            <td>afg </td> <td>1802</td> <td>7                                 </td>\n",
       "        </tr>\n",
       "        <tr>\n",
       "            <td>afg </td> <td>1803</td> <td>7                                 </td>\n",
       "        </tr>\n",
       "        <tr>\n",
       "            <td>afg </td> <td>1804</td> <td>7                                 </td>\n",
       "        </tr>\n",
       "        <tr>\n",
       "            <td>afg </td> <td>1805</td> <td>7                                 </td>\n",
       "        </tr>\n",
       "        <tr>\n",
       "            <td>afg </td> <td>1806</td> <td>7                                 </td>\n",
       "        </tr>\n",
       "        <tr>\n",
       "            <td>afg </td> <td>1807</td> <td>7                                 </td>\n",
       "        </tr>\n",
       "        <tr>\n",
       "            <td>afg </td> <td>1808</td> <td>7                                 </td>\n",
       "        </tr>\n",
       "        <tr>\n",
       "            <td>afg </td> <td>1809</td> <td>7                                 </td>\n",
       "        </tr>\n",
       "    </tbody>\n",
       "</table>\n",
       "<p>... (43402 rows omitted)</p>"
      ],
      "text/plain": [
       "geo  | time | children_per_woman_total_fertility\n",
       "afg  | 1800 | 7\n",
       "afg  | 1801 | 7\n",
       "afg  | 1802 | 7\n",
       "afg  | 1803 | 7\n",
       "afg  | 1804 | 7\n",
       "afg  | 1805 | 7\n",
       "afg  | 1806 | 7\n",
       "afg  | 1807 | 7\n",
       "afg  | 1808 | 7\n",
       "afg  | 1809 | 7\n",
       "... (43402 rows omitted)"
      ]
     },
     "execution_count": 12,
     "metadata": {},
     "output_type": "execute_result"
    }
   ],
   "source": [
    "fertility"
   ]
  },
  {
   "cell_type": "markdown",
   "metadata": {
    "deletable": false,
    "editable": false
   },
   "source": [
    "**Question 3.** Perhaps population is growing more slowly because people aren't living as long. Use the `life_expectancy` table to draw a line graph with the years 1970 and later on the horizontal axis that shows how the *life expectancy at birth* has changed in Bangladesh."
   ]
  },
  {
   "cell_type": "code",
   "execution_count": 13,
   "metadata": {
    "deletable": false,
    "manual_grade": true,
    "manual_problem_id": "global_pop_3"
   },
   "outputs": [
    {
     "data": {
      "image/png": "[encoded data removed]",
      "text/plain": [
       "<Figure size 432x288 with 1 Axes>"
      ]
     },
     "metadata": {},
     "output_type": "display_data"
    }
   ],
   "source": [
    "life_expectancy.where('geo', are.equal_to('bgd')).where('time', are.above(1969)).plot('time','life_expectancy_years')"
   ]
  },
  {
   "cell_type": "markdown",
   "metadata": {
    "deletable": false,
    "editable": false
   },
   "source": [
    "**Question 4.** Assuming everything else stays the same, does the graph above help directly explain why the population growth rate decreased from 1985 to 2010 in Bangladesh? Why or why not? What happened in Bangladesh in 1991, and does that event explain the change in population growth rate?"
   ]
  },
  {
   "cell_type": "markdown",
   "metadata": {
    "collapsed": true,
    "deletable": false,
    "manual_grade": true,
    "manual_problem_id": "global_pop_4"
   },
   "source": [
    "No, the graph above does not explain why the population growth rate decreased from 1985 to 2010 in Bangladesh because it only describes that in 1990 to 1991 there was an occurrence that decreased the life expectancy for only about 1 to 2 years. At about 1993 the life expectancy for Bangladesh continued to steadily increase regardless of the population rate decreasing from 1985 to 2010. Thus, there is no clear association between the life expectancy and the population growth rate. \n"
   ]
  },
  {
   "cell_type": "markdown",
   "metadata": {
    "deletable": false,
    "editable": false
   },
   "source": [
    "The `fertility` table contains a statistic that is often used to measure how many babies are being born, the *total fertility rate*. This number describes the [number of children a woman would have in her lifetime](https://www.measureevaluation.org/prh/rh_indicators/specific/fertility/total-fertility-rate), on average, if the current rates of birth by age of the mother persisted throughout her child bearing years, assuming she survived through age 49. "
   ]
  },
  {
   "cell_type": "markdown",
   "metadata": {
    "deletable": false,
    "editable": false
   },
   "source": [
    "**Question 5.** Write a function `fertility_over_time` that takes the Alpha-3 code of a `country` and a `start` year. It returns a two-column table with labels \"`Year`\" and \"`Children per woman`\" that can be used to generate a line chart of the country's fertility rate each year, starting at the `start` year. The plot should include the `start` year and all later years that appear in the `fertility` table. \n",
    "\n",
    "Then, in the next cell, call your `fertility_over_time` function on the Alpha-3 code for Bangladesh and the year 1970 in order to plot how Bangladesh's fertility rate has changed since 1970. Note that the function `fertility_over_time` should not return the plot itself **The expression that draws the line plot is provided for you; please don't change it.**"
   ]
  },
  {
   "cell_type": "code",
   "execution_count": 26,
   "metadata": {
    "deletable": false
   },
   "outputs": [],
   "source": [
    "def fertility_over_time(country, start):\n",
    "    \"\"\"Create a two-column table that describes a country's total fertility rate each year.\"\"\"\n",
    "    country_fertility = fertility.where('geo', are.equal_to(country)).drop('geo').relabel('time', 'Year').relabel('children_per_woman_total_fertility','Children per woman')\n",
    "    country_fertility_after_start = country_fertility.where('Year', are.above_or_equal_to(start))\n",
    "    return country_fertility_after_start"
   ]
  },
  {
   "cell_type": "code",
   "execution_count": 27,
   "metadata": {
    "deletable": false
   },
   "outputs": [
    {
     "data": {
      "image/png": "[encoded data removed]",
      "text/plain": [
       "<Figure size 432x288 with 1 Axes>"
      ]
     },
     "metadata": {},
     "output_type": "display_data"
    }
   ],
   "source": [
    "bangladesh_code = 'bgd'\n",
    "fertility_over_time(bangladesh_code, 1970).plot(0, 1) # You should *not* change this line."
   ]
  },
  {
   "cell_type": "code",
   "execution_count": 28,
   "metadata": {
    "deletable": false,
    "editable": false
   },
   "outputs": [
    {
     "name": "stdout",
     "output_type": "stream",
     "text": [
      "~~~~~~~~~~~~~~~~~~~~~~~~~~~~~~~~~~~~~~~~~~~~~~~~~~~~~~~~~~~~~~~~~~~~~\n",
      "Running tests\n",
      "\n",
      "---------------------------------------------------------------------\n",
      "Test summary\n",
      "    Passed: 2\n",
      "    Failed: 0\n",
      "[ooooooooook] 100.0% passed\n",
      "\n"
     ]
    }
   ],
   "source": [
    "_ = ok.grade('q1_5')"
   ]
  },
  {
   "cell_type": "markdown",
   "metadata": {
    "deletable": false,
    "editable": false
   },
   "source": [
    "**Question 6.** Assuming everything else stays the same, does the graph above help directly explain why the population growth rate decreased from 1985 to 2010 in Bangladesh? Why or why not?"
   ]
  },
  {
   "cell_type": "markdown",
   "metadata": {
    "deletable": false,
    "manual_grade": true,
    "manual_problem_id": "global_pop_6"
   },
   "source": [
    "Yes, the graph above helps directly explain why the population rate decreased from 1985 to 2010 in Bangladesh because it shows a decrease from 1985 to 2010 in children per woman. This decrease has an effect on the population growth rate because every year a smaller and smaller amount children are born per woman meaning that the population is still increasing but in a decreasing annual growth rate.\n"
   ]
  },
  {
   "cell_type": "markdown",
   "metadata": {
    "deletable": false,
    "editable": false
   },
   "source": [
    "It has been observed that lower fertility rates are often associated with lower child mortality rates. The link has been attributed to family planning: if parents can expect that their children will all survive into adulthood, then they will choose to have fewer children. We can see if this association is evident in Bangladesh by plotting the relationship between total fertility rate and [child mortality rate per 1000 children](https://en.wikipedia.org/wiki/Child_mortality)."
   ]
  },
  {
   "cell_type": "markdown",
   "metadata": {
    "deletable": false,
    "editable": false
   },
   "source": [
    "**Question 7.** Using both the `fertility` and `child_mortality` tables, draw a scatter diagram with one point for each year, starting with 1970, that has Bangladesh's total fertility on the horizontal axis and its child mortality on the vertical axis. \n",
    "\n",
    "**The expression that draws the scatter diagram is provided for you; please don't change it.** Instead, create a table called `post_1969_fertility_and_child_mortality` with the appropriate column labels and data in order to generate the chart correctly. Use the label \"`Children per woman`\" to describe total fertility and the label \"`Child deaths per 1000 born`\" to describe child mortality."
   ]
  },
  {
   "cell_type": "code",
   "execution_count": 17,
   "metadata": {
    "deletable": false
   },
   "outputs": [
    {
     "data": {
      "image/png": "[encoded data removed]",
      "text/plain": [
       "<Figure size 360x360 with 1 Axes>"
      ]
     },
     "metadata": {},
     "output_type": "display_data"
    }
   ],
   "source": [
    "bgd_fertility = fertility.where('geo', are.equal_to('bgd')).where('time', are.above(1969))\n",
    "bgd_child_mortality = child_mortality.where('geo', are.equal_to('bgd')).where('time', are.above(1969))\n",
    "fertility_and_child_mortality = bgd_fertility.join('time', bgd_child_mortality, 'time').drop('time_2').drop('geo')\n",
    "post_1969_fertility_and_child_mortality = fertility_and_child_mortality.group('time', sum).relabel('children_per_woman_total_fertility sum','Children per woman').relabel('child_mortality_under_5_per_1000_born sum', 'Child deaths per 1000 born')\n",
    "#.group('time', sum)\n",
    "post_1969_fertility_and_child_mortality.scatter('Children per woman', 'Child deaths per 1000 born') # You should *not* change this line."
   ]
  },
  {
   "cell_type": "code",
   "execution_count": 18,
   "metadata": {
    "deletable": false,
    "editable": false
   },
   "outputs": [
    {
     "name": "stdout",
     "output_type": "stream",
     "text": [
      "~~~~~~~~~~~~~~~~~~~~~~~~~~~~~~~~~~~~~~~~~~~~~~~~~~~~~~~~~~~~~~~~~~~~~\n",
      "Running tests\n",
      "\n",
      "---------------------------------------------------------------------\n",
      "Test summary\n",
      "    Passed: 2\n",
      "    Failed: 0\n",
      "[ooooooooook] 100.0% passed\n",
      "\n"
     ]
    }
   ],
   "source": [
    "_ = ok.grade('q1_7')"
   ]
  },
  {
   "cell_type": "markdown",
   "metadata": {
    "deletable": false,
    "editable": false
   },
   "source": [
    "**Question 8.** In one or two sentences, describe the association (if any) that is illustrated by this scatter diagram. Does the diagram show that reduced child mortality causes parents to choose to have fewer children?"
   ]
  },
  {
   "cell_type": "markdown",
   "metadata": {
    "deletable": false,
    "manual_grade": true,
    "manual_problem_id": "global_pop_8"
   },
   "source": [
    "In respect to the scattered diagram, it shows that \"Child deaths per 100 born\" and \"Children per woman\" have a linear association. As a result, the diagram does not show that reduced child mortality causes parents to choose to have fewer children.\n",
    "The scattered diagram, shows that as parents have more children, \"Children per Women\", there is an association with the increase in child morality, \"Child deaths per 100 born\". However, it does not show that increase in child mortality causes parents to choose to have more children; there is no causation only association."
   ]
  },
  {
   "cell_type": "markdown",
   "metadata": {
    "deletable": false,
    "editable": false
   },
   "source": [
    "### The World\n",
    "\n",
    "The change observed in Bangladesh since 1970 can also be observed in many other developing countries: health services improve, life expectancy increases, and child mortality decreases. At the same time, the fertility rate often plummets, and so the population growth rate decreases despite increasing longevity."
   ]
  },
  {
   "cell_type": "markdown",
   "metadata": {
    "deletable": false,
    "editable": false
   },
   "source": [
    "Run the cell below to generate two overlaid histograms, one for 1960 and one for 2010, that show the distributions of total fertility rates for these two years among all 201 countries in the `fertility` table."
   ]
  },
  {
   "cell_type": "code",
   "execution_count": 19,
   "metadata": {
    "deletable": false,
    "editable": false
   },
   "outputs": [
    {
     "data": {
      "image/png": "[encoded data removed]",
      "text/plain": [
       "<Figure size 432x288 with 1 Axes>"
      ]
     },
     "metadata": {},
     "output_type": "display_data"
    }
   ],
   "source": [
    "Table().with_columns(\n",
    "    '1960', fertility.where('time', 1960).column(2),\n",
    "    '2010', fertility.where('time', 2010).column(2)\n",
    ").hist(bins=np.arange(0, 10, 0.5), unit='child')\n",
    "_ = plots.xlabel('Children per woman')\n",
    "_ = plots.xticks(np.arange(10))"
   ]
  },
  {
   "cell_type": "markdown",
   "metadata": {
    "deletable": false,
    "editable": false
   },
   "source": [
    "**Question 9.** Assign `fertility_statements` to a list of the numbers of each statement below that can be correctly inferred from these histograms.\n",
    "1. About the same number of countries had a fertility rate between 3.5 and 4.5 in both 1960 and 2010.\n",
    "1. In 2010, about 40% of countries had a fertility rate between 1.5 and 2 (inclusive).\n",
    "1. In 1960, less than 20% of countries had a fertility rate below 3.\n",
    "1. More countries had a fertility rate above 3 in 1960 than in 2010.\n",
    "1. At least half of countries had a fertility rate between 5 and 8 (inclusive) in 1960.\n",
    "1. At least half of countries had a fertility rate below 3 in 2010."
   ]
  },
  {
   "cell_type": "code",
   "execution_count": 43,
   "metadata": {
    "deletable": false
   },
   "outputs": [],
   "source": [
    "fertility_statements = list((1,2,3,4,5,6))"
   ]
  },
  {
   "cell_type": "code",
   "execution_count": 44,
   "metadata": {
    "deletable": false,
    "editable": false
   },
   "outputs": [
    {
     "name": "stdout",
     "output_type": "stream",
     "text": [
      "~~~~~~~~~~~~~~~~~~~~~~~~~~~~~~~~~~~~~~~~~~~~~~~~~~~~~~~~~~~~~~~~~~~~~\n",
      "Running tests\n",
      "\n",
      "---------------------------------------------------------------------\n",
      "Test summary\n",
      "    Passed: 1\n",
      "    Failed: 0\n",
      "[ooooooooook] 100.0% passed\n",
      "\n"
     ]
    }
   ],
   "source": [
    "_ = ok.grade('q1_9')"
   ]
  },
  {
   "cell_type": "markdown",
   "metadata": {
    "deletable": false,
    "editable": false
   },
   "source": [
    "**Question 10.** Draw a line plot of the world population from 1800 through 2005. The world population is the sum of all the country's populations. "
   ]
  },
  {
   "cell_type": "code",
   "execution_count": 45,
   "metadata": {
    "deletable": false,
    "manual_grade": true,
    "manual_problem_id": "global_pop_10"
   },
   "outputs": [
    {
     "data": {
      "image/png": "[encoded data removed]",
      "text/plain": [
       "<Figure size 432x288 with 1 Axes>"
      ]
     },
     "metadata": {},
     "output_type": "display_data"
    }
   ],
   "source": [
    "population_1800_2005 = population.drop('geo').group('time', sum).where('time', are.between(1800,2006)).relabel('population_total sum', 'population_total')\n",
    "population_1800_2005_plot = population_1800_2005.plot('time','population_total')"
   ]
  },
  {
   "cell_type": "markdown",
   "metadata": {
    "deletable": false,
    "editable": false
   },
   "source": [
    "**Question 11.** Create a function `stats_for_year` that takes a `year` and returns a table of statistics. The table it returns should have four columns: `geo`, `population_total`, `children_per_woman_total_fertility`, and `child_mortality_under_5_per_1000_born`. Each row should contain one Alpha-3 country code and three statistics: population, fertility rate, and child mortality for that `year` from the `population`, `fertility` and `child_mortality` tables. Only include rows for which all three statistics are available for the country and year.\n",
    "\n",
    "In addition, restrict the result to country codes that appears in `big_50`, an array of the 50 most populous countries in 2010. This restriction will speed up computations later in the project.\n",
    "\n",
    "*Hint*: The tests for this question are quite comprehensive, so if you pass the tests, your function is probably correct. However, without calling your function yourself and looking at the output, it will be very difficult to understand any problems you have, so try your best to write the function correctly and check that it works before you rely on the `ok` tests to confirm your work."
   ]
  },
  {
   "cell_type": "code",
   "execution_count": 46,
   "metadata": {
    "deletable": false
   },
   "outputs": [],
   "source": [
    "# We first create a population table that only includes the \n",
    "# 50 countries with the largest 2010 populations. We focus on \n",
    "# these 50 countries only so that plotting later will run faster.\n",
    "big_50 = population.where('time', 2010).sort(2, descending=True).take(np.arange(50)).column('geo')\n",
    "population_of_big_50 = population.where('time', are.above(1959)).where('geo', are.contained_in(big_50))\n",
    "\n",
    "def stats_for_year(year):\n",
    "    \"\"\"Return a table of the stats for each country that year.\"\"\"\n",
    "    p = population_of_big_50.where('time', year).drop('time')\n",
    "    f = fertility.where('time', year).drop('time')\n",
    "    c = child_mortality.where('time', year).drop('time')\n",
    "    return p.join('geo', f).join('geo', c)\n",
    "        "
   ]
  },
  {
   "cell_type": "markdown",
   "metadata": {
    "deletable": false,
    "editable": false
   },
   "source": [
    "Try calling your function `stats_for_year` on any year between 1960 and 2010 in the cell below.  Try to understand the output of `stats_for_year`."
   ]
  },
  {
   "cell_type": "code",
   "execution_count": 47,
   "metadata": {},
   "outputs": [
    {
     "data": {
      "text/html": [
       "<table border=\"1\" class=\"dataframe\">\n",
       "    <thead>\n",
       "        <tr>\n",
       "            <th>geo</th> <th>population_total</th> <th>children_per_woman_total_fertility</th> <th>child_mortality_under_5_per_1000_born</th>\n",
       "        </tr>\n",
       "    </thead>\n",
       "    <tbody>\n",
       "        <tr>\n",
       "            <td>afg </td> <td>18511480        </td> <td>7.85                              </td> <td>142.6                                </td>\n",
       "        </tr>\n",
       "        <tr>\n",
       "            <td>arg </td> <td>36241578        </td> <td>2.6                               </td> <td>21.4                                 </td>\n",
       "        </tr>\n",
       "        <tr>\n",
       "            <td>bgd </td> <td>126169583       </td> <td>3.35                              </td> <td>97.9                                 </td>\n",
       "        </tr>\n",
       "        <tr>\n",
       "            <td>bra </td> <td>170516482       </td> <td>2.43                              </td> <td>37.7                                 </td>\n",
       "        </tr>\n",
       "        <tr>\n",
       "            <td>can </td> <td>30145148        </td> <td>1.56                              </td> <td>6.4                                  </td>\n",
       "        </tr>\n",
       "        <tr>\n",
       "            <td>chn </td> <td>1255262566      </td> <td>1.48                              </td> <td>41.5                                 </td>\n",
       "        </tr>\n",
       "        <tr>\n",
       "            <td>cod </td> <td>45647949        </td> <td>7.19                              </td> <td>168.4                                </td>\n",
       "        </tr>\n",
       "        <tr>\n",
       "            <td>col </td> <td>39234059        </td> <td>2.73                              </td> <td>26.9                                 </td>\n",
       "        </tr>\n",
       "        <tr>\n",
       "            <td>deu </td> <td>82010184        </td> <td>1.34                              </td> <td>5.7                                  </td>\n",
       "        </tr>\n",
       "        <tr>\n",
       "            <td>dza </td> <td>30336880        </td> <td>2.79                              </td> <td>40.7                                 </td>\n",
       "        </tr>\n",
       "    </tbody>\n",
       "</table>\n",
       "<p>... (40 rows omitted)</p>"
      ],
      "text/plain": [
       "geo  | population_total | children_per_woman_total_fertility | child_mortality_under_5_per_1000_born\n",
       "afg  | 18511480         | 7.85                               | 142.6\n",
       "arg  | 36241578         | 2.6                                | 21.4\n",
       "bgd  | 126169583        | 3.35                               | 97.9\n",
       "bra  | 170516482        | 2.43                               | 37.7\n",
       "can  | 30145148         | 1.56                               | 6.4\n",
       "chn  | 1255262566       | 1.48                               | 41.5\n",
       "cod  | 45647949         | 7.19                               | 168.4\n",
       "col  | 39234059         | 2.73                               | 26.9\n",
       "deu  | 82010184         | 1.34                               | 5.7\n",
       "dza  | 30336880         | 2.79                               | 40.7\n",
       "... (40 rows omitted)"
      ]
     },
     "execution_count": 47,
     "metadata": {},
     "output_type": "execute_result"
    }
   ],
   "source": [
    "stats_for_year(1998)"
   ]
  },
  {
   "cell_type": "code",
   "execution_count": 48,
   "metadata": {
    "deletable": false,
    "editable": false
   },
   "outputs": [
    {
     "name": "stdout",
     "output_type": "stream",
     "text": [
      "~~~~~~~~~~~~~~~~~~~~~~~~~~~~~~~~~~~~~~~~~~~~~~~~~~~~~~~~~~~~~~~~~~~~~\n",
      "Running tests\n",
      "\n",
      "---------------------------------------------------------------------\n",
      "Test summary\n",
      "    Passed: 4\n",
      "    Failed: 0\n",
      "[ooooooooook] 100.0% passed\n",
      "\n"
     ]
    }
   ],
   "source": [
    "_ = ok.grade('q1_11')"
   ]
  },
  {
   "cell_type": "markdown",
   "metadata": {
    "deletable": false,
    "editable": false
   },
   "source": [
    "**Question 12.** Create a table called `pop_by_decade` with two columns called `decade` and `population`. It has a row for each `year` since 1960 that starts a decade. The `population` column contains the total population of all countries included in the result of `stats_for_year(year)` for the first `year` of the decade. For example, 1960 is the first year of the 1960's decade. You should see that these countries contain most of the world's population.\n",
    "\n",
    "*Hint:* One approach is to define a function `pop_for_year` that computes this total population, then `apply` it to the `decade` column.  The `stats_for_year` function from the previous question may be useful here.\n",
    "\n",
    "**Note:** The `pop_by_decade` cell is directly below the cell containing the helper function `pop_for_year`. This is where you will generate the `pop_by_decade` table!"
   ]
  },
  {
   "cell_type": "code",
   "execution_count": 49,
   "metadata": {},
   "outputs": [
    {
     "data": {
      "text/plain": [
       "2891085175"
      ]
     },
     "execution_count": 49,
     "metadata": {},
     "output_type": "execute_result"
    }
   ],
   "source": [
    "def pop_for_year(year):\n",
    "    return stats_for_year(year).column('population_total').sum()\n",
    "pop_for_year(1965)"
   ]
  },
  {
   "cell_type": "markdown",
   "metadata": {
    "deletable": false,
    "editable": false
   },
   "source": [
    "This test is just a sanity check for your helper function if you choose to use it. You will not lose points for not implementing the function `pop_for_year`."
   ]
  },
  {
   "cell_type": "code",
   "execution_count": 50,
   "metadata": {},
   "outputs": [
    {
     "name": "stdout",
     "output_type": "stream",
     "text": [
      "~~~~~~~~~~~~~~~~~~~~~~~~~~~~~~~~~~~~~~~~~~~~~~~~~~~~~~~~~~~~~~~~~~~~~\n",
      "Running tests\n",
      "\n",
      "---------------------------------------------------------------------\n",
      "Test summary\n",
      "    Passed: 1\n",
      "    Failed: 0\n",
      "[ooooooooook] 100.0% passed\n",
      "\n"
     ]
    }
   ],
   "source": [
    "_ = ok.grade('q1_12_0')"
   ]
  },
  {
   "cell_type": "code",
   "execution_count": 51,
   "metadata": {
    "deletable": false
   },
   "outputs": [
    {
     "data": {
      "text/html": [
       "<table border=\"1\" class=\"dataframe\">\n",
       "    <thead>\n",
       "        <tr>\n",
       "            <th>decade</th> <th>population</th>\n",
       "        </tr>\n",
       "    </thead>\n",
       "    <tbody>\n",
       "        <tr>\n",
       "            <td>1960  </td> <td>2,624,944,597</td>\n",
       "        </tr>\n",
       "        <tr>\n",
       "            <td>1970  </td> <td>3,211,487,418</td>\n",
       "        </tr>\n",
       "        <tr>\n",
       "            <td>1980  </td> <td>3,880,722,003</td>\n",
       "        </tr>\n",
       "        <tr>\n",
       "            <td>1990  </td> <td>4,648,434,558</td>\n",
       "        </tr>\n",
       "        <tr>\n",
       "            <td>2000  </td> <td>5,367,553,063</td>\n",
       "        </tr>\n",
       "        <tr>\n",
       "            <td>2010  </td> <td>6,040,810,517</td>\n",
       "        </tr>\n",
       "    </tbody>\n",
       "</table>"
      ],
      "text/plain": [
       "decade | population\n",
       "1960   | 2,624,944,597\n",
       "1970   | 3,211,487,418\n",
       "1980   | 3,880,722,003\n",
       "1990   | 4,648,434,558\n",
       "2000   | 5,367,553,063\n",
       "2010   | 6,040,810,517"
      ]
     },
     "execution_count": 51,
     "metadata": {},
     "output_type": "execute_result"
    }
   ],
   "source": [
    "decades = Table().with_column('decade', np.arange(1960, 2011, 10))\n",
    "populations = decades.apply(pop_for_year, 'decade')\n",
    "pop_by_decade = decades.with_column('population', populations)\n",
    "pop_by_decade.set_format(1, NumberFormatter)"
   ]
  },
  {
   "cell_type": "code",
   "execution_count": 52,
   "metadata": {
    "deletable": false,
    "editable": false
   },
   "outputs": [
    {
     "name": "stdout",
     "output_type": "stream",
     "text": [
      "~~~~~~~~~~~~~~~~~~~~~~~~~~~~~~~~~~~~~~~~~~~~~~~~~~~~~~~~~~~~~~~~~~~~~\n",
      "Running tests\n",
      "\n",
      "---------------------------------------------------------------------\n",
      "Test summary\n",
      "    Passed: 2\n",
      "    Failed: 0\n",
      "[ooooooooook] 100.0% passed\n",
      "\n"
     ]
    }
   ],
   "source": [
    "_ = ok.grade('q1_12')"
   ]
  },
  {
   "cell_type": "markdown",
   "metadata": {
    "deletable": false,
    "editable": false
   },
   "source": [
    "The `countries` table describes various characteristics of countries. The `country` column contains the same codes as the `geo` column in each of the other data tables (`population`, `fertility`, and `child_mortality`). The `world_6region` column classifies each country into a region of the world. Run the cell below to inspect the data."
   ]
  },
  {
   "cell_type": "code",
   "execution_count": 53,
   "metadata": {
    "deletable": false,
    "editable": false
   },
   "outputs": [
    {
     "data": {
      "text/html": [
       "<table border=\"1\" class=\"dataframe\">\n",
       "    <thead>\n",
       "        <tr>\n",
       "            <th>country</th> <th>name</th> <th>world_6region</th>\n",
       "        </tr>\n",
       "    </thead>\n",
       "    <tbody>\n",
       "        <tr>\n",
       "            <td>afg      </td> <td>Afghanistan          </td> <td>south_asia              </td>\n",
       "        </tr>\n",
       "        <tr>\n",
       "            <td>akr_a_dhe</td> <td>Akrotiri and Dhekelia</td> <td>europe_central_asia     </td>\n",
       "        </tr>\n",
       "        <tr>\n",
       "            <td>alb      </td> <td>Albania              </td> <td>europe_central_asia     </td>\n",
       "        </tr>\n",
       "        <tr>\n",
       "            <td>dza      </td> <td>Algeria              </td> <td>middle_east_north_africa</td>\n",
       "        </tr>\n",
       "        <tr>\n",
       "            <td>asm      </td> <td>American Samoa       </td> <td>east_asia_pacific       </td>\n",
       "        </tr>\n",
       "        <tr>\n",
       "            <td>and      </td> <td>Andorra              </td> <td>europe_central_asia     </td>\n",
       "        </tr>\n",
       "        <tr>\n",
       "            <td>ago      </td> <td>Angola               </td> <td>sub_saharan_africa      </td>\n",
       "        </tr>\n",
       "        <tr>\n",
       "            <td>aia      </td> <td>Anguilla             </td> <td>america                 </td>\n",
       "        </tr>\n",
       "        <tr>\n",
       "            <td>atg      </td> <td>Antigua and Barbuda  </td> <td>america                 </td>\n",
       "        </tr>\n",
       "        <tr>\n",
       "            <td>arg      </td> <td>Argentina            </td> <td>america                 </td>\n",
       "        </tr>\n",
       "    </tbody>\n",
       "</table>\n",
       "<p>... (245 rows omitted)</p>"
      ],
      "text/plain": [
       "country   | name                  | world_6region\n",
       "afg       | Afghanistan           | south_asia\n",
       "akr_a_dhe | Akrotiri and Dhekelia | europe_central_asia\n",
       "alb       | Albania               | europe_central_asia\n",
       "dza       | Algeria               | middle_east_north_africa\n",
       "asm       | American Samoa        | east_asia_pacific\n",
       "and       | Andorra               | europe_central_asia\n",
       "ago       | Angola                | sub_saharan_africa\n",
       "aia       | Anguilla              | america\n",
       "atg       | Antigua and Barbuda   | america\n",
       "arg       | Argentina             | america\n",
       "... (245 rows omitted)"
      ]
     },
     "execution_count": 53,
     "metadata": {},
     "output_type": "execute_result"
    }
   ],
   "source": [
    "countries = Table.read_table('countries.csv').where('country', are.contained_in(population.group('geo').column(0)))\n",
    "countries.select('country', 'name', 'world_6region')"
   ]
  },
  {
   "cell_type": "markdown",
   "metadata": {
    "deletable": false,
    "editable": false
   },
   "source": [
    "**Question 13.** Create a table called `region_counts` that has two columns, `region` and `count`. It should describe the count of how many countries in each region appear in the result of `stats_for_year(1960)`. For example, one row would have `south_asia` as its `world_6region` value and an integer as its `count` value: the number of large South Asian countries for which we have population, fertility, and child mortality numbers from 1960."
   ]
  },
  {
   "cell_type": "code",
   "execution_count": 54,
   "metadata": {
    "deletable": false
   },
   "outputs": [
    {
     "data": {
      "text/html": [
       "<table border=\"1\" class=\"dataframe\">\n",
       "    <thead>\n",
       "        <tr>\n",
       "            <th>region</th> <th>count</th>\n",
       "        </tr>\n",
       "    </thead>\n",
       "    <tbody>\n",
       "        <tr>\n",
       "            <td>america                 </td> <td>8    </td>\n",
       "        </tr>\n",
       "        <tr>\n",
       "            <td>east_asia_pacific       </td> <td>10   </td>\n",
       "        </tr>\n",
       "        <tr>\n",
       "            <td>europe_central_asia     </td> <td>10   </td>\n",
       "        </tr>\n",
       "        <tr>\n",
       "            <td>middle_east_north_africa</td> <td>7    </td>\n",
       "        </tr>\n",
       "        <tr>\n",
       "            <td>south_asia              </td> <td>5    </td>\n",
       "        </tr>\n",
       "        <tr>\n",
       "            <td>sub_saharan_africa      </td> <td>10   </td>\n",
       "        </tr>\n",
       "    </tbody>\n",
       "</table>"
      ],
      "text/plain": [
       "region                   | count\n",
       "america                  | 8\n",
       "east_asia_pacific        | 10\n",
       "europe_central_asia      | 10\n",
       "middle_east_north_africa | 7\n",
       "south_asia               | 5\n",
       "sub_saharan_africa       | 10"
      ]
     },
     "execution_count": 54,
     "metadata": {},
     "output_type": "execute_result"
    }
   ],
   "source": [
    "countries_filtered = countries.select('country', 'name', 'world_6region')\n",
    "region_counts = stats_for_year(1960).relabel('geo', 'country').join('country', countries_filtered).group('world_6region').relabel('world_6region', 'region')\n",
    "region_counts\n",
    "#explanation"
   ]
  },
  {
   "cell_type": "code",
   "execution_count": 55,
   "metadata": {
    "deletable": false,
    "editable": false
   },
   "outputs": [
    {
     "name": "stdout",
     "output_type": "stream",
     "text": [
      "~~~~~~~~~~~~~~~~~~~~~~~~~~~~~~~~~~~~~~~~~~~~~~~~~~~~~~~~~~~~~~~~~~~~~\n",
      "Running tests\n",
      "\n",
      "---------------------------------------------------------------------\n",
      "Test summary\n",
      "    Passed: 2\n",
      "    Failed: 0\n",
      "[ooooooooook] 100.0% passed\n",
      "\n"
     ]
    }
   ],
   "source": [
    "_ = ok.grade('q1_13')"
   ]
  },
  {
   "cell_type": "markdown",
   "metadata": {
    "deletable": false,
    "editable": false
   },
   "source": [
    "The following scatter diagram compares total fertility rate and child mortality rate for each country in 1960. The area of each dot represents the population of the country, and the color represents its region of the world. Run the cell. Do you think you can identify any of the dots?"
   ]
  },
  {
   "cell_type": "code",
   "execution_count": 56,
   "metadata": {
    "deletable": false
   },
   "outputs": [
    {
     "data": {
      "image/png": "[encoded data removed]",
      "text/plain": [
       "<Figure size 360x360 with 1 Axes>"
      ]
     },
     "metadata": {},
     "output_type": "display_data"
    }
   ],
   "source": [
    "from functools import lru_cache as cache\n",
    "\n",
    "# This cache annotation makes sure that if the same year\n",
    "# is passed as an argument twice, the work of computing\n",
    "# the result is only carried out once.\n",
    "@cache(None)\n",
    "def stats_relabeled(year):\n",
    "    \"\"\"Relabeled and cached version of stats_for_year.\"\"\"\n",
    "    return stats_for_year(year).relabeled(2, 'Children per woman').relabeled(3, 'Child deaths per 1000 born')\n",
    "\n",
    "def fertility_vs_child_mortality(year):\n",
    "    \"\"\"Draw a color scatter diagram comparing child mortality and fertility.\"\"\"\n",
    "    with_region = stats_relabeled(year).join('geo', countries.select('country', 'world_6region'), 'country')\n",
    "    with_region.scatter(2, 3, sizes=1, colors=4, s=500)\n",
    "    plots.xlim(0,10)\n",
    "    plots.ylim(-50, 500)\n",
    "    plots.title(year)\n",
    "\n",
    "fertility_vs_child_mortality(1960)"
   ]
  },
  {
   "cell_type": "markdown",
   "metadata": {
    "deletable": false,
    "editable": false
   },
   "source": [
    "**Question 14.** Assign `scatter_statements` to a list of the numbers of each statement below that can be inferred from this scatter diagram for 1960. \n",
    "1. The `europe_central_asia` region had the lowest child mortality rate.\n",
    "1. The lowest child mortality rate of any country was from an `east_asian_pacific` country.\n",
    "1. Most countries had a fertility rate above 5.\n",
    "1. There was an association between child mortality and fertility.\n",
    "1. The two largest countries by population also had the two highest child mortality rate."
   ]
  },
  {
   "cell_type": "code",
   "execution_count": 59,
   "metadata": {
    "deletable": false
   },
   "outputs": [],
   "source": [
    "scatter_statements = list((1,3,4))"
   ]
  },
  {
   "cell_type": "code",
   "execution_count": 60,
   "metadata": {
    "deletable": false,
    "editable": false
   },
   "outputs": [
    {
     "name": "stdout",
     "output_type": "stream",
     "text": [
      "~~~~~~~~~~~~~~~~~~~~~~~~~~~~~~~~~~~~~~~~~~~~~~~~~~~~~~~~~~~~~~~~~~~~~\n",
      "Running tests\n",
      "\n",
      "---------------------------------------------------------------------\n",
      "Test summary\n",
      "    Passed: 1\n",
      "    Failed: 0\n",
      "[ooooooooook] 100.0% passed\n",
      "\n"
     ]
    }
   ],
   "source": [
    "_ = ok.grade('q1_14')"
   ]
  },
  {
   "cell_type": "markdown",
   "metadata": {
    "deletable": false
   },
   "source": [
    "The result of the cell below is interactive. Drag the slider to the right to see how countries have changed over time. You'll find that the great divide between so-called \"Western\" and \"developing\" countries that existed in the 1960's has nearly disappeared. This shift in fertility rates is the reason that the global population is expected to grow more slowly in the 21st century than it did in the 19th and 20th centuries."
   ]
  },
  {
   "cell_type": "code",
   "execution_count": 61,
   "metadata": {
    "deletable": false,
    "scrolled": false
   },
   "outputs": [
    {
     "name": "stderr",
     "output_type": "stream",
     "text": [
      "/srv/app/venv/lib/python3.6/site-packages/datascience/tables.py:192: FutureWarning: Implicit column method lookup is deprecated.\n",
      "  warnings.warn(\"Implicit column method lookup is deprecated.\", FutureWarning)\n"
     ]
    },
    {
     "data": {
      "application/vnd.jupyter.widget-view+json": {
       "model_id": "576637ad82f7420eb6ae9b698583d6d6",
       "version_major": 2,
       "version_minor": 0
      },
      "text/plain": [
       "interactive(children=(IntSlider(value=1960, description='year', max=2015, min=1960), Output()), _dom_classes=(…"
      ]
     },
     "metadata": {},
     "output_type": "display_data"
    }
   ],
   "source": [
    "import ipywidgets as widgets\n",
    "\n",
    "# This part takes a few minutes to run because it \n",
    "# computes 55 tables in advance: one for each year.\n",
    "Table().with_column('Year', np.arange(1960, 2016)).apply(stats_relabeled, 'Year')\n",
    "\n",
    "_ = widgets.interact(fertility_vs_child_mortality, \n",
    "                     year=widgets.IntSlider(min=1960, max=2015, value=1960))"
   ]
  },
  {
   "cell_type": "markdown",
   "metadata": {
    "deletable": false,
    "editable": false
   },
   "source": [
    "Now is a great time to take a break and watch the same data presented by [Hans Rosling in a 2010 TEDx talk](https://www.gapminder.org/videos/reducing-child-mortality-a-moral-and-environmental-imperative) with smoother animation and witty commentary."
   ]
  },
  {
   "cell_type": "markdown",
   "metadata": {
    "deletable": false,
    "editable": false
   },
   "source": [
    "## 2. Global Poverty\n"
   ]
  },
  {
   "cell_type": "markdown",
   "metadata": {
    "deletable": false,
    "editable": false
   },
   "source": [
    "In 1800, 85% of the world's 1 billion people lived in *extreme poverty*, defined by the United Nations as \"a condition characterized by severe deprivation of basic human needs, including food, safe drinking water, sanitation facilities, health, shelter, education and information.\" A common measure of extreme poverty is a person living on less than \\$1.25 per day.\n",
    "\n",
    "In 2018, the proportion of people living in extreme poverty was estimated to be 8%. Although the world rate of extreme poverty has declined consistently for hundreds of years, the number of people living in extreme poverty is still over 600 million. The United Nations recently adopted an [ambitious goal](http://www.un.org/sustainabledevelopment/poverty/): \"By 2030, eradicate extreme poverty for all people everywhere.\"\n",
    "In this section, we will examine extreme poverty trends around the world."
   ]
  },
  {
   "cell_type": "markdown",
   "metadata": {
    "deletable": false,
    "editable": false
   },
   "source": [
    "First, load the population and poverty rate by country and year and the country descriptions. While the `population` table has values for every recent year for many countries, the `poverty` table only includes certain years for each country in which a measurement of the rate of extreme poverty was available."
   ]
  },
  {
   "cell_type": "code",
   "execution_count": 62,
   "metadata": {
    "deletable": false,
    "editable": false
   },
   "outputs": [
    {
     "data": {
      "text/html": [
       "<table border=\"1\" class=\"dataframe\">\n",
       "    <thead>\n",
       "        <tr>\n",
       "            <th>geo</th> <th>time</th> <th>extreme_poverty_percent_people_below_125_a_day</th>\n",
       "        </tr>\n",
       "    </thead>\n",
       "    <tbody>\n",
       "        <tr>\n",
       "            <td>alb </td> <td>1996</td> <td>0.2                                           </td>\n",
       "        </tr>\n",
       "        <tr>\n",
       "            <td>alb </td> <td>2002</td> <td>0.73                                          </td>\n",
       "        </tr>\n",
       "        <tr>\n",
       "            <td>alb </td> <td>2004</td> <td>0.53                                          </td>\n",
       "        </tr>\n",
       "    </tbody>\n",
       "</table>\n",
       "<p>... (1096 rows omitted)</p>"
      ],
      "text/plain": [
       "<IPython.core.display.HTML object>"
      ]
     },
     "metadata": {},
     "output_type": "display_data"
    }
   ],
   "source": [
    "population = Table.read_table('population.csv')\n",
    "countries = Table.read_table('countries.csv').where('country', are.contained_in(population.group('geo').column(0)))\n",
    "poverty = Table.read_table('poverty.csv')\n",
    "poverty.show(3)"
   ]
  },
  {
   "cell_type": "markdown",
   "metadata": {
    "deletable": false,
    "editable": false
   },
   "source": [
    "**Question 1.** Assign `latest_poverty` to a three-column table with one row for each country that appears in the `poverty` table. The first column should contain the 3-letter code for the country. The second column should contain the *most recent_poverty_total year* for which an extreme poverty rate is available for the country. The third column should contain the poverty rate in that year. **Do not change the last line, so that the labels of your table are set correctly.**\n",
    "\n",
    "*Hint*: think about how ```group``` works: it does a sequential search of the table (from top to bottom) and collects values in the array in the order in which they appear, and then applies a function to that array. The `first` function may be helpful, but you are not required to use it."
   ]
  },
  {
   "cell_type": "code",
   "execution_count": 63,
   "metadata": {
    "deletable": false
   },
   "outputs": [
    {
     "data": {
      "text/html": [
       "<table border=\"1\" class=\"dataframe\">\n",
       "    <thead>\n",
       "        <tr>\n",
       "            <th>geo</th> <th>time</th> <th>poverty_percent</th>\n",
       "        </tr>\n",
       "    </thead>\n",
       "    <tbody>\n",
       "        <tr>\n",
       "            <td>ago </td> <td>2009</td> <td>43.37          </td>\n",
       "        </tr>\n",
       "        <tr>\n",
       "            <td>alb </td> <td>2012</td> <td>0.46           </td>\n",
       "        </tr>\n",
       "        <tr>\n",
       "            <td>arg </td> <td>2011</td> <td>1.41           </td>\n",
       "        </tr>\n",
       "        <tr>\n",
       "            <td>arm </td> <td>2012</td> <td>1.75           </td>\n",
       "        </tr>\n",
       "        <tr>\n",
       "            <td>aus </td> <td>2003</td> <td>1.36           </td>\n",
       "        </tr>\n",
       "        <tr>\n",
       "            <td>aut </td> <td>2004</td> <td>0.34           </td>\n",
       "        </tr>\n",
       "        <tr>\n",
       "            <td>aze </td> <td>2008</td> <td>0.31           </td>\n",
       "        </tr>\n",
       "        <tr>\n",
       "            <td>bdi </td> <td>2006</td> <td>81.32          </td>\n",
       "        </tr>\n",
       "        <tr>\n",
       "            <td>bel </td> <td>2000</td> <td>0.5            </td>\n",
       "        </tr>\n",
       "        <tr>\n",
       "            <td>ben </td> <td>2012</td> <td>51.61          </td>\n",
       "        </tr>\n",
       "    </tbody>\n",
       "</table>\n",
       "<p>... (135 rows omitted)</p>"
      ],
      "text/plain": [
       "geo  | time | poverty_percent\n",
       "ago  | 2009 | 43.37\n",
       "alb  | 2012 | 0.46\n",
       "arg  | 2011 | 1.41\n",
       "arm  | 2012 | 1.75\n",
       "aus  | 2003 | 1.36\n",
       "aut  | 2004 | 0.34\n",
       "aze  | 2008 | 0.31\n",
       "bdi  | 2006 | 81.32\n",
       "bel  | 2000 | 0.5\n",
       "ben  | 2012 | 51.61\n",
       "... (135 rows omitted)"
      ]
     },
     "execution_count": 63,
     "metadata": {},
     "output_type": "execute_result"
    }
   ],
   "source": [
    "def first(values):\n",
    "    return values.item(0)\n",
    "#poverty_3 = poverty.show(3)\n",
    "latest_poverty = poverty.sort('time', descending=True).sort('geo', distinct=True)\n",
    "\n",
    "latest_poverty.relabel(0, 'geo').relabel(1, 'time').relabel(2, 'poverty_percent') # You should *not* change this line."
   ]
  },
  {
   "cell_type": "code",
   "execution_count": 64,
   "metadata": {
    "deletable": false
   },
   "outputs": [
    {
     "name": "stdout",
     "output_type": "stream",
     "text": [
      "~~~~~~~~~~~~~~~~~~~~~~~~~~~~~~~~~~~~~~~~~~~~~~~~~~~~~~~~~~~~~~~~~~~~~\n",
      "Running tests\n",
      "\n",
      "---------------------------------------------------------------------\n",
      "Test summary\n",
      "    Passed: 2\n",
      "    Failed: 0\n",
      "[ooooooooook] 100.0% passed\n",
      "\n"
     ]
    }
   ],
   "source": [
    "_ = ok.grade('q2_1')"
   ]
  },
  {
   "cell_type": "markdown",
   "metadata": {
    "deletable": false,
    "editable": false
   },
   "source": [
    "**Question 2.** Using both `latest_poverty` and `population`, create a four-column table called `recent_poverty_total` with one row for each country in `latest_poverty`. The four columns should have the following labels and contents:\n",
    "1. `geo` contains the 3-letter country code,\n",
    "1. `poverty_percent` contains the most recent poverty percent,\n",
    "1. `population_total` contains the population of the country in 2010,\n",
    "1. `poverty_total` contains the number of people in poverty **rounded to the nearest integer**, based on the 2010 population and most recent poverty rate."
   ]
  },
  {
   "cell_type": "code",
   "execution_count": 65,
   "metadata": {
    "deletable": false
   },
   "outputs": [
    {
     "data": {
      "text/html": [
       "<table border=\"1\" class=\"dataframe\">\n",
       "    <thead>\n",
       "        <tr>\n",
       "            <th>geo</th> <th>poverty_percent</th> <th>population_total</th> <th>poverty_total</th>\n",
       "        </tr>\n",
       "    </thead>\n",
       "    <tbody>\n",
       "        <tr>\n",
       "            <td>ago </td> <td>43.37          </td> <td>21219954        </td> <td>9.20309e+06  </td>\n",
       "        </tr>\n",
       "        <tr>\n",
       "            <td>alb </td> <td>0.46           </td> <td>2901883         </td> <td>13349        </td>\n",
       "        </tr>\n",
       "        <tr>\n",
       "            <td>arg </td> <td>1.41           </td> <td>41222875        </td> <td>581243       </td>\n",
       "        </tr>\n",
       "        <tr>\n",
       "            <td>arm </td> <td>1.75           </td> <td>2963496         </td> <td>51861        </td>\n",
       "        </tr>\n",
       "        <tr>\n",
       "            <td>aus </td> <td>1.36           </td> <td>22162863        </td> <td>301415       </td>\n",
       "        </tr>\n",
       "        <tr>\n",
       "            <td>aut </td> <td>0.34           </td> <td>8391986         </td> <td>28533        </td>\n",
       "        </tr>\n",
       "        <tr>\n",
       "            <td>aze </td> <td>0.31           </td> <td>9099893         </td> <td>28210        </td>\n",
       "        </tr>\n",
       "        <tr>\n",
       "            <td>bdi </td> <td>81.32          </td> <td>9461117         </td> <td>7.69378e+06  </td>\n",
       "        </tr>\n",
       "        <tr>\n",
       "            <td>bel </td> <td>0.5            </td> <td>10929978        </td> <td>54650        </td>\n",
       "        </tr>\n",
       "        <tr>\n",
       "            <td>ben </td> <td>51.61          </td> <td>9509798         </td> <td>4.90801e+06  </td>\n",
       "        </tr>\n",
       "    </tbody>\n",
       "</table>\n",
       "<p>... (135 rows omitted)</p>"
      ],
      "text/plain": [
       "geo  | poverty_percent | population_total | poverty_total\n",
       "ago  | 43.37           | 21219954         | 9.20309e+06\n",
       "alb  | 0.46            | 2901883          | 13349\n",
       "arg  | 1.41            | 41222875         | 581243\n",
       "arm  | 1.75            | 2963496          | 51861\n",
       "aus  | 1.36            | 22162863         | 301415\n",
       "aut  | 0.34            | 8391986          | 28533\n",
       "aze  | 0.31            | 9099893          | 28210\n",
       "bdi  | 81.32           | 9461117          | 7.69378e+06\n",
       "bel  | 0.5             | 10929978         | 54650\n",
       "ben  | 51.61           | 9509798          | 4.90801e+06\n",
       "... (135 rows omitted)"
      ]
     },
     "execution_count": 65,
     "metadata": {},
     "output_type": "execute_result"
    }
   ],
   "source": [
    "pop_2010 = population.where('time', are.equal_to(2010)).sort('geo', descending=False)\n",
    "poverty_pop_tble = latest_poverty.join('geo', pop_2010).drop('time').drop('time_2')\n",
    "poverty_percent_array = poverty_pop_tble.select('poverty_percent').column('poverty_percent')\n",
    "pop_array = poverty_pop_tble.select('population_total').column('population_total')\n",
    "poverty_and_pop = np.round(poverty_percent_array/100*pop_array)\n",
    "recent_poverty_total = poverty_pop_tble.with_column('poverty_total', poverty_and_pop)\n",
    "recent_poverty_total"
   ]
  },
  {
   "cell_type": "code",
   "execution_count": 66,
   "metadata": {
    "deletable": false,
    "editable": false
   },
   "outputs": [
    {
     "name": "stdout",
     "output_type": "stream",
     "text": [
      "~~~~~~~~~~~~~~~~~~~~~~~~~~~~~~~~~~~~~~~~~~~~~~~~~~~~~~~~~~~~~~~~~~~~~\n",
      "Running tests\n",
      "\n",
      "---------------------------------------------------------------------\n",
      "Test summary\n",
      "    Passed: 3\n",
      "    Failed: 0\n",
      "[ooooooooook] 100.0% passed\n",
      "\n"
     ]
    }
   ],
   "source": [
    "_ = ok.grade('q2_2')"
   ]
  },
  {
   "cell_type": "markdown",
   "metadata": {
    "deletable": false,
    "editable": false
   },
   "source": [
    "**Question 3.** Assuming that the `poverty_total` numbers in the `recent_poverty_total` table describe *all* people in 2010 living in extreme poverty, assign the name `poverty_percent` to the percentage of the world's 2010 population that were living in extreme poverty. You should find a number that is above the 2018 global estimate of 8%, since many country-specific poverty rates are older than 2018.\n",
    "\n",
    "*Hint*: The sum of the `population_total` column in the `recent_poverty_total` table is not the world population, because only a subset of the world's countries have known poverty rates. Use the `population` table to compute the world's 2010 total population."
   ]
  },
  {
   "cell_type": "code",
   "execution_count": 67,
   "metadata": {
    "deletable": false
   },
   "outputs": [
    {
     "data": {
      "text/plain": [
       "14.299370218520854"
      ]
     },
     "execution_count": 67,
     "metadata": {},
     "output_type": "execute_result"
    }
   ],
   "source": [
    "all_pop_2010 = population.where('time', are.equal_to(2010)).select('population_total').column('population_total')\n",
    "poverty_total_sum = np.sum(recent_poverty_total.select('poverty_total').column('poverty_total'))\n",
    "total_pop_sum = np.sum(all_pop_2010)\n",
    "poverty_percent = (poverty_total_sum/total_pop_sum)*100\n",
    "poverty_percent\n"
   ]
  },
  {
   "cell_type": "code",
   "execution_count": 68,
   "metadata": {
    "deletable": false,
    "editable": false
   },
   "outputs": [
    {
     "name": "stdout",
     "output_type": "stream",
     "text": [
      "~~~~~~~~~~~~~~~~~~~~~~~~~~~~~~~~~~~~~~~~~~~~~~~~~~~~~~~~~~~~~~~~~~~~~\n",
      "Running tests\n",
      "\n",
      "---------------------------------------------------------------------\n",
      "Test summary\n",
      "    Passed: 1\n",
      "    Failed: 0\n",
      "[ooooooooook] 100.0% passed\n",
      "\n"
     ]
    }
   ],
   "source": [
    "_ = ok.grade('q2_3')"
   ]
  },
  {
   "cell_type": "markdown",
   "metadata": {
    "deletable": false,
    "editable": false
   },
   "source": [
    "The `countries` table includes not only the name and region of countries, but also their positions on the globe."
   ]
  },
  {
   "cell_type": "code",
   "execution_count": 69,
   "metadata": {
    "deletable": false,
    "editable": false
   },
   "outputs": [
    {
     "data": {
      "text/html": [
       "<table border=\"1\" class=\"dataframe\">\n",
       "    <thead>\n",
       "        <tr>\n",
       "            <th>country</th> <th>name</th> <th>world_4region</th> <th>latitude</th> <th>longitude</th>\n",
       "        </tr>\n",
       "    </thead>\n",
       "    <tbody>\n",
       "        <tr>\n",
       "            <td>afg      </td> <td>Afghanistan          </td> <td>asia         </td> <td>33      </td> <td>66       </td>\n",
       "        </tr>\n",
       "        <tr>\n",
       "            <td>akr_a_dhe</td> <td>Akrotiri and Dhekelia</td> <td>europe       </td> <td>nan     </td> <td>nan      </td>\n",
       "        </tr>\n",
       "        <tr>\n",
       "            <td>alb      </td> <td>Albania              </td> <td>europe       </td> <td>41      </td> <td>20       </td>\n",
       "        </tr>\n",
       "        <tr>\n",
       "            <td>dza      </td> <td>Algeria              </td> <td>africa       </td> <td>28      </td> <td>3        </td>\n",
       "        </tr>\n",
       "        <tr>\n",
       "            <td>asm      </td> <td>American Samoa       </td> <td>asia         </td> <td>-11.056 </td> <td>-171.082 </td>\n",
       "        </tr>\n",
       "        <tr>\n",
       "            <td>and      </td> <td>Andorra              </td> <td>europe       </td> <td>42.5078 </td> <td>1.52109  </td>\n",
       "        </tr>\n",
       "        <tr>\n",
       "            <td>ago      </td> <td>Angola               </td> <td>africa       </td> <td>-12.5   </td> <td>18.5     </td>\n",
       "        </tr>\n",
       "        <tr>\n",
       "            <td>aia      </td> <td>Anguilla             </td> <td>americas     </td> <td>18.2167 </td> <td>-63.05   </td>\n",
       "        </tr>\n",
       "        <tr>\n",
       "            <td>atg      </td> <td>Antigua and Barbuda  </td> <td>americas     </td> <td>17.05   </td> <td>-61.8    </td>\n",
       "        </tr>\n",
       "        <tr>\n",
       "            <td>arg      </td> <td>Argentina            </td> <td>americas     </td> <td>-34     </td> <td>-64      </td>\n",
       "        </tr>\n",
       "    </tbody>\n",
       "</table>\n",
       "<p>... (245 rows omitted)</p>"
      ],
      "text/plain": [
       "country   | name                  | world_4region | latitude | longitude\n",
       "afg       | Afghanistan           | asia          | 33       | 66\n",
       "akr_a_dhe | Akrotiri and Dhekelia | europe        | nan      | nan\n",
       "alb       | Albania               | europe        | 41       | 20\n",
       "dza       | Algeria               | africa        | 28       | 3\n",
       "asm       | American Samoa        | asia          | -11.056  | -171.082\n",
       "and       | Andorra               | europe        | 42.5078  | 1.52109\n",
       "ago       | Angola                | africa        | -12.5    | 18.5\n",
       "aia       | Anguilla              | americas      | 18.2167  | -63.05\n",
       "atg       | Antigua and Barbuda   | americas      | 17.05    | -61.8\n",
       "arg       | Argentina             | americas      | -34      | -64\n",
       "... (245 rows omitted)"
      ]
     },
     "execution_count": 69,
     "metadata": {},
     "output_type": "execute_result"
    }
   ],
   "source": [
    "countries.select('country', 'name', 'world_4region', 'latitude', 'longitude')"
   ]
  },
  {
   "cell_type": "markdown",
   "metadata": {
    "deletable": false,
    "editable": false
   },
   "source": [
    "**Question 4.** Using both `countries` and `recent_poverty_total`, create a five-column table called `poverty_map` with one row for every country in `recent_poverty_total`.  The four columns should have the following labels and contents:\n",
    "1. `latitude` contains the country's latitude,\n",
    "1. `longitude` contains the country's longitude,\n",
    "1. `name` contains the country's name,\n",
    "1. `region` contains the country's region from the `world_4region` column of `countries`,\n",
    "1. `poverty_total` contains the country's poverty total."
   ]
  },
  {
   "cell_type": "code",
   "execution_count": 70,
   "metadata": {
    "deletable": false
   },
   "outputs": [
    {
     "data": {
      "text/html": [
       "<table border=\"1\" class=\"dataframe\">\n",
       "    <thead>\n",
       "        <tr>\n",
       "            <th>latitude</th> <th>longitude</th> <th>name</th> <th>region</th> <th>poverty_total</th>\n",
       "        </tr>\n",
       "    </thead>\n",
       "    <tbody>\n",
       "        <tr>\n",
       "            <td>-12.5   </td> <td>18.5     </td> <td>Angola    </td> <td>africa  </td> <td>9.20309e+06  </td>\n",
       "        </tr>\n",
       "        <tr>\n",
       "            <td>41      </td> <td>20       </td> <td>Albania   </td> <td>europe  </td> <td>13349        </td>\n",
       "        </tr>\n",
       "        <tr>\n",
       "            <td>-34     </td> <td>-64      </td> <td>Argentina </td> <td>americas</td> <td>581243       </td>\n",
       "        </tr>\n",
       "        <tr>\n",
       "            <td>40.25   </td> <td>45       </td> <td>Armenia   </td> <td>europe  </td> <td>51861        </td>\n",
       "        </tr>\n",
       "        <tr>\n",
       "            <td>-25     </td> <td>135      </td> <td>Australia </td> <td>asia    </td> <td>301415       </td>\n",
       "        </tr>\n",
       "        <tr>\n",
       "            <td>47.3333 </td> <td>13.3333  </td> <td>Austria   </td> <td>europe  </td> <td>28533        </td>\n",
       "        </tr>\n",
       "        <tr>\n",
       "            <td>40.5    </td> <td>47.5     </td> <td>Azerbaijan</td> <td>europe  </td> <td>28210        </td>\n",
       "        </tr>\n",
       "        <tr>\n",
       "            <td>-3.5    </td> <td>30       </td> <td>Burundi   </td> <td>africa  </td> <td>7.69378e+06  </td>\n",
       "        </tr>\n",
       "        <tr>\n",
       "            <td>50.75   </td> <td>4.5      </td> <td>Belgium   </td> <td>europe  </td> <td>54650        </td>\n",
       "        </tr>\n",
       "        <tr>\n",
       "            <td>9.5     </td> <td>2.25     </td> <td>Benin     </td> <td>africa  </td> <td>4.90801e+06  </td>\n",
       "        </tr>\n",
       "    </tbody>\n",
       "</table>\n",
       "<p>... (135 rows omitted)</p>"
      ],
      "text/plain": [
       "latitude | longitude | name       | region   | poverty_total\n",
       "-12.5    | 18.5      | Angola     | africa   | 9.20309e+06\n",
       "41       | 20        | Albania    | europe   | 13349\n",
       "-34      | -64       | Argentina  | americas | 581243\n",
       "40.25    | 45        | Armenia    | europe   | 51861\n",
       "-25      | 135       | Australia  | asia     | 301415\n",
       "47.3333  | 13.3333   | Austria    | europe   | 28533\n",
       "40.5     | 47.5      | Azerbaijan | europe   | 28210\n",
       "-3.5     | 30        | Burundi    | africa   | 7.69378e+06\n",
       "50.75    | 4.5       | Belgium    | europe   | 54650\n",
       "9.5      | 2.25      | Benin      | africa   | 4.90801e+06\n",
       "... (135 rows omitted)"
      ]
     },
     "execution_count": 70,
     "metadata": {},
     "output_type": "execute_result"
    }
   ],
   "source": [
    "countries_specified_columns = countries.select('latitude','longitude','country', 'name', 'world_4region')\n",
    "poverty_map = countries_specified_columns.join('country', recent_poverty_total, 'geo').drop('poverty_percent').drop('population_total').drop('country').relabel('world_4region','region')\n",
    "poverty_map"
   ]
  },
  {
   "cell_type": "code",
   "execution_count": 71,
   "metadata": {
    "deletable": false,
    "editable": false
   },
   "outputs": [
    {
     "name": "stdout",
     "output_type": "stream",
     "text": [
      "~~~~~~~~~~~~~~~~~~~~~~~~~~~~~~~~~~~~~~~~~~~~~~~~~~~~~~~~~~~~~~~~~~~~~\n",
      "Running tests\n",
      "\n",
      "---------------------------------------------------------------------\n",
      "Test summary\n",
      "    Passed: 2\n",
      "    Failed: 0\n",
      "[ooooooooook] 100.0% passed\n",
      "\n"
     ]
    }
   ],
   "source": [
    "_ = ok.grade('q2_4')"
   ]
  },
  {
   "cell_type": "markdown",
   "metadata": {
    "deletable": false,
    "editable": false
   },
   "source": [
    "Run the cell below to draw a map of the world in which the areas of circles represent the number of people living in extreme poverty. Double-click on the map to zoom in."
   ]
  },
  {
   "cell_type": "code",
   "execution_count": 72,
   "metadata": {
    "deletable": false,
    "editable": false
   },
   "outputs": [
    {
     "name": "stderr",
     "output_type": "stream",
     "text": [
      "/srv/app/venv/lib/python3.6/site-packages/datascience/maps.py:368: FutureWarning: circle_marker is deprecated. Use add_children(CircleMarker) instead\n",
      "  f(**self._folium_kwargs)\n"
     ]
    },
    {
     "data": {
      "text/html": [
       "<div style=\"width:100%;\"><div style=\"position:relative;width:100%;height:0;padding-bottom:60%;\"><iframe src=\"data:text/html;base64,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\" style=\"position:absolute;width:100%;height:100%;left:0;top:0;\"></iframe></div></div>"
      ],
      "text/plain": [
       "<datascience.maps.Map at 0x7fe544bb86a0>"
      ]
     },
     "execution_count": 72,
     "metadata": {},
     "output_type": "execute_result"
    }
   ],
   "source": [
    "# It may take a few seconds to generate this map.\n",
    "colors = {'africa': 'blue', 'europe': 'black', 'asia': 'red', 'americas': 'green'}\n",
    "scaled = poverty_map.with_column(\n",
    "    'poverty_total', 2e4 * poverty_map.column('poverty_total'),\n",
    "    'region', poverty_map.apply(colors.get, 'region')\n",
    ")\n",
    "Circle.map_table(scaled)"
   ]
  },
  {
   "cell_type": "markdown",
   "metadata": {
    "deletable": false,
    "editable": false
   },
   "source": [
    "Although people live in extreme poverty throughout the world (with more than 5 million in the United States), the largest numbers are in Asia and Africa."
   ]
  },
  {
   "cell_type": "markdown",
   "metadata": {
    "deletable": false,
    "editable": false
   },
   "source": [
    "**Question 5.** Assign `largest` to a two-column table with the `name` (not the 3-letter code) and `poverty_total` of the 10 countries with the largest number of people living in extreme poverty."
   ]
  },
  {
   "cell_type": "code",
   "execution_count": 73,
   "metadata": {
    "deletable": false
   },
   "outputs": [
    {
     "data": {
      "text/html": [
       "<table border=\"1\" class=\"dataframe\">\n",
       "    <thead>\n",
       "        <tr>\n",
       "            <th>name</th> <th>poverty_total</th>\n",
       "        </tr>\n",
       "    </thead>\n",
       "    <tbody>\n",
       "        <tr>\n",
       "            <td>India           </td> <td>2.90882e+08  </td>\n",
       "        </tr>\n",
       "        <tr>\n",
       "            <td>Nigeria         </td> <td>9.88912e+07  </td>\n",
       "        </tr>\n",
       "        <tr>\n",
       "            <td>China           </td> <td>8.39446e+07  </td>\n",
       "        </tr>\n",
       "        <tr>\n",
       "            <td>Bangladesh      </td> <td>6.55743e+07  </td>\n",
       "        </tr>\n",
       "        <tr>\n",
       "            <td>Congo, Dem. Rep.</td> <td>5.78414e+07  </td>\n",
       "        </tr>\n",
       "        <tr>\n",
       "            <td>Indonesia       </td> <td>3.91413e+07  </td>\n",
       "        </tr>\n",
       "        <tr>\n",
       "            <td>Ethiopia        </td> <td>3.2214e+07   </td>\n",
       "        </tr>\n",
       "        <tr>\n",
       "            <td>Pakistan        </td> <td>2.16636e+07  </td>\n",
       "        </tr>\n",
       "        <tr>\n",
       "            <td>Tanzania        </td> <td>1.9848e+07   </td>\n",
       "        </tr>\n",
       "        <tr>\n",
       "            <td>Madagascar      </td> <td>1.84804e+07  </td>\n",
       "        </tr>\n",
       "    </tbody>\n",
       "</table>"
      ],
      "text/plain": [
       "name             | poverty_total\n",
       "India            | 2.90882e+08\n",
       "Nigeria          | 9.88912e+07\n",
       "China            | 8.39446e+07\n",
       "Bangladesh       | 6.55743e+07\n",
       "Congo, Dem. Rep. | 5.78414e+07\n",
       "Indonesia        | 3.91413e+07\n",
       "Ethiopia         | 3.2214e+07\n",
       "Pakistan         | 2.16636e+07\n",
       "Tanzania         | 1.9848e+07\n",
       "Madagascar       | 1.84804e+07"
      ]
     },
     "execution_count": 73,
     "metadata": {},
     "output_type": "execute_result"
    }
   ],
   "source": [
    "largest = poverty_map.select('name', 'poverty_total').sort('poverty_total', descending=True).take(np.arange(0,10))\n",
    "largest"
   ]
  },
  {
   "cell_type": "code",
   "execution_count": 74,
   "metadata": {
    "deletable": false,
    "editable": false
   },
   "outputs": [
    {
     "name": "stdout",
     "output_type": "stream",
     "text": [
      "~~~~~~~~~~~~~~~~~~~~~~~~~~~~~~~~~~~~~~~~~~~~~~~~~~~~~~~~~~~~~~~~~~~~~\n",
      "Running tests\n",
      "\n",
      "---------------------------------------------------------------------\n",
      "Test summary\n",
      "    Passed: 3\n",
      "    Failed: 0\n",
      "[ooooooooook] 100.0% passed\n",
      "\n"
     ]
    }
   ],
   "source": [
    "_ = ok.grade('q2_5')"
   ]
  },
  {
   "cell_type": "markdown",
   "metadata": {
    "deletable": false
   },
   "source": [
    "**Question 6.** Write a function called `poverty_timeline` that takes **the name of a country** as its argument. It should draw a line plot of the number of people living in poverty in that country with time on the horizontal axis. The line plot should have a point for each row in the `poverty` table for that country. To compute the population living in poverty from a poverty percentage, multiply by the population of the country **in that year**.\n",
    "\n",
    "*Hint*: The names within the `poverty_timeline` function correspond to our staff solution, but you don't need to use them. Any way that you want to draw the plot is fine, as long as it generates the correct graph.\n",
    "\n",
    "*Hint*: For the `apply` method, if you don't specify a particular column to apply your function on, the whole row is used as an input to the function. Elements inside a row can be accessed using `.item`.\n",
    "\n",
    "*Hint:* This question is long. Feel free to create cells and experiment. "
   ]
  },
  {
   "cell_type": "code",
   "execution_count": 75,
   "metadata": {
    "deletable": false,
    "manual_grade": true,
    "manual_problem_id": "global_poverty_6"
   },
   "outputs": [],
   "source": [
    "def population_for_country_in_year(row_of_poverty_table):\n",
    "    \"\"\"Optional: Define a function to return the population \n",
    "    of a country in a year using a row from the poverty table.\"\"\"\n",
    "    poverty_geo = row_of_poverty_table.item(0)\n",
    "    poverty_time = row_of_poverty_table.item(1)\n",
    "    pop = population.where('geo', are.equal_to(poverty_geo)).where('time', are.equal_to(poverty_time)).column('population_total').item(0)                            \n",
    "    return pop\n",
    "\n",
    "def poverty_timeline(country):\n",
    "    \"\"\"Draw a timeline of people living in extreme poverty in a country.\"\"\"\n",
    "    geo = countries.where('name',are.equal_to(country)).select('country').column('country').item(0) \n",
    "    poverty_geo = poverty.where('geo', are.equal_to(geo)).drop('geo')\n",
    "    filter_pop = population.where('geo', are.equal_to(geo)).drop('geo')\n",
    "    join_pov_pop = poverty_geo.join('time', filter_pop)\n",
    "    pov_pop = np.round(join_pov_pop.column('population_total')*join_pov_pop.column('extreme_poverty_percent_people_below_125_a_day')/100)\n",
    "    join_pov_pop = join_pov_pop.with_column('pov_pop', pov_pop)\n",
    "    return join_pov_pop.plot('time', 'pov_pop')\n",
    "    \n",
    "    \n",
    "    \n",
    "    \n",
    "    "
   ]
  },
  {
   "cell_type": "code",
   "execution_count": 76,
   "metadata": {},
   "outputs": [
    {
     "data": {
      "text/html": [
       "<table border=\"1\" class=\"dataframe\">\n",
       "    <thead>\n",
       "        <tr>\n",
       "            <th>geo</th> <th>time</th> <th>extreme_poverty_percent_people_below_125_a_day</th>\n",
       "        </tr>\n",
       "    </thead>\n",
       "    <tbody>\n",
       "        <tr>\n",
       "            <td>alb </td> <td>1996</td> <td>0.2                                           </td>\n",
       "        </tr>\n",
       "        <tr>\n",
       "            <td>alb </td> <td>2002</td> <td>0.73                                          </td>\n",
       "        </tr>\n",
       "        <tr>\n",
       "            <td>alb </td> <td>2004</td> <td>0.53                                          </td>\n",
       "        </tr>\n",
       "        <tr>\n",
       "            <td>alb </td> <td>2005</td> <td>0.44                                          </td>\n",
       "        </tr>\n",
       "        <tr>\n",
       "            <td>alb </td> <td>2008</td> <td>0.2                                           </td>\n",
       "        </tr>\n",
       "        <tr>\n",
       "            <td>alb </td> <td>2012</td> <td>0.46                                          </td>\n",
       "        </tr>\n",
       "        <tr>\n",
       "            <td>dza </td> <td>1988</td> <td>7.1                                           </td>\n",
       "        </tr>\n",
       "        <tr>\n",
       "            <td>dza </td> <td>1995</td> <td>6.38                                          </td>\n",
       "        </tr>\n",
       "        <tr>\n",
       "            <td>ago </td> <td>2000</td> <td>54.31                                         </td>\n",
       "        </tr>\n",
       "        <tr>\n",
       "            <td>ago </td> <td>2009</td> <td>43.37                                         </td>\n",
       "        </tr>\n",
       "    </tbody>\n",
       "</table>\n",
       "<p>... (1089 rows omitted)</p>"
      ],
      "text/plain": [
       "geo  | time | extreme_poverty_percent_people_below_125_a_day\n",
       "alb  | 1996 | 0.2\n",
       "alb  | 2002 | 0.73\n",
       "alb  | 2004 | 0.53\n",
       "alb  | 2005 | 0.44\n",
       "alb  | 2008 | 0.2\n",
       "alb  | 2012 | 0.46\n",
       "dza  | 1988 | 7.1\n",
       "dza  | 1995 | 6.38\n",
       "ago  | 2000 | 54.31\n",
       "ago  | 2009 | 43.37\n",
       "... (1089 rows omitted)"
      ]
     },
     "execution_count": 76,
     "metadata": {},
     "output_type": "execute_result"
    }
   ],
   "source": [
    "poverty"
   ]
  },
  {
   "cell_type": "code",
   "execution_count": 77,
   "metadata": {},
   "outputs": [
    {
     "data": {
      "text/plain": [
       "1356155.68"
      ]
     },
     "execution_count": 77,
     "metadata": {},
     "output_type": "execute_result"
    }
   ],
   "source": [
    " #2005\n",
    "p = poverty.row(3).item(2)\n",
    "m = population.where('geo', are.equal_to(poverty.row(3).item(0))).where('time', are.equal_to(poverty.row(3).item(1))).column('population_total')\n",
    "np.prod(p*m)"
   ]
  },
  {
   "cell_type": "code",
   "execution_count": null,
   "metadata": {},
   "outputs": [],
   "source": []
  },
  {
   "cell_type": "code",
   "execution_count": 78,
   "metadata": {},
   "outputs": [
    {
     "data": {
      "text/plain": [
       "2005"
      ]
     },
     "execution_count": 78,
     "metadata": {},
     "output_type": "execute_result"
    }
   ],
   "source": [
    "poverty.row(3).item(1)"
   ]
  },
  {
   "cell_type": "code",
   "execution_count": null,
   "metadata": {},
   "outputs": [],
   "source": []
  },
  {
   "cell_type": "markdown",
   "metadata": {
    "deletable": false,
    "editable": false
   },
   "source": [
    "Finally, draw the timelines below to see how the world is changing. You can check your work by comparing your graphs to the ones on [gapminder.org](https://goo.gl/lPujuh)."
   ]
  },
  {
   "cell_type": "code",
   "execution_count": 79,
   "metadata": {
    "deletable": false,
    "editable": false
   },
   "outputs": [
    {
     "data": {
      "image/png": "[encoded data removed]",
      "text/plain": [
       "<Figure size 432x288 with 1 Axes>"
      ]
     },
     "metadata": {},
     "output_type": "display_data"
    }
   ],
   "source": [
    "poverty_timeline('India')"
   ]
  },
  {
   "cell_type": "code",
   "execution_count": 80,
   "metadata": {
    "deletable": false,
    "editable": false
   },
   "outputs": [
    {
     "data": {
      "image/png": "[encoded data removed]",
      "text/plain": [
       "<Figure size 432x288 with 1 Axes>"
      ]
     },
     "metadata": {},
     "output_type": "display_data"
    }
   ],
   "source": [
    "poverty_timeline('Nigeria')"
   ]
  },
  {
   "cell_type": "code",
   "execution_count": 81,
   "metadata": {
    "deletable": false,
    "editable": false
   },
   "outputs": [
    {
     "data": {
      "image/png": "[encoded data removed]",
      "text/plain": [
       "<Figure size 432x288 with 1 Axes>"
      ]
     },
     "metadata": {},
     "output_type": "display_data"
    }
   ],
   "source": [
    "poverty_timeline('China')"
   ]
  },
  {
   "cell_type": "code",
   "execution_count": 82,
   "metadata": {
    "deletable": false,
    "editable": false
   },
   "outputs": [
    {
     "data": {
      "image/png": "[encoded data removed]",
      "text/plain": [
       "<Figure size 432x288 with 1 Axes>"
      ]
     },
     "metadata": {},
     "output_type": "display_data"
    }
   ],
   "source": [
    "poverty_timeline('United States')"
   ]
  },
  {
   "cell_type": "markdown",
   "metadata": {
    "deletable": false,
    "editable": false
   },
   "source": [
    "Although the number of people living in extreme poverty has been increasing in Nigeria and the United States, the massive decreases in China and India have shaped the overall trend that extreme poverty is decreasing worldwide, both in percentage and in absolute number. \n",
    "\n",
    "To learn more, watch [Hans Rosling in a 2015 film](https://www.gapminder.org/videos/dont-panic-end-poverty/) about the UN goal of eradicating extreme poverty from the world. \n",
    "\n",
    "Below, we've also added an interactive dropdown menu for you to visualize `poverty_timeline` graphs for other countries. Note that each dropdown menu selection may take a few seconds to run."
   ]
  },
  {
   "cell_type": "code",
   "execution_count": 83,
   "metadata": {
    "deletable": false,
    "editable": false
   },
   "outputs": [
    {
     "data": {
      "application/vnd.jupyter.widget-view+json": {
       "model_id": "7d670792d89e41beb4bae5251afe3cc6",
       "version_major": 2,
       "version_minor": 0
      },
      "text/plain": [
       "interactive(children=(Dropdown(description='country', options=('Angola', 'Albania', 'Argentina', 'Armenia', 'A…"
      ]
     },
     "metadata": {},
     "output_type": "display_data"
    }
   ],
   "source": [
    "# Just run this cell\n",
    "\n",
    "all_countries = poverty_map.column('name')\n",
    "_ = widgets.interact(poverty_timeline, country=list(all_countries))"
   ]
  },
  {
   "cell_type": "markdown",
   "metadata": {
    "deletable": false,
    "editable": false
   },
   "source": [
    "**You're finished!** Congratulations on mastering data visualization and table manipulation. Time to submit."
   ]
  },
  {
   "cell_type": "code",
   "execution_count": null,
   "metadata": {
    "deletable": false,
    "editable": false
   },
   "outputs": [
    {
     "data": {
      "application/javascript": [
       "IPython.notebook.save_checkpoint();"
      ],
      "text/plain": [
       "<IPython.core.display.Javascript object>"
      ]
     },
     "metadata": {},
     "output_type": "display_data"
    }
   ],
   "source": [
    "_ = ok.submit()"
   ]
  },
  {
   "cell_type": "code",
   "execution_count": null,
   "metadata": {},
   "outputs": [],
   "source": []
  }
 ],
 "metadata": {
  "kernelspec": {
   "display_name": "Python 3",
   "language": "python",
   "name": "python3"
  },
  "language_info": {
   "codemirror_mode": {
    "name": "ipython",
    "version": 3
   },
   "file_extension": ".py",
   "mimetype": "text/x-python",
   "name": "python",
   "nbconvert_exporter": "python",
   "pygments_lexer": "ipython3",
   "version": "3.6.5"
  }
 },
 "nbformat": 4,
 "nbformat_minor": 1
}
